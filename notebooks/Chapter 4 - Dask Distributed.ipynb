{
 "cells": [
  {
   "cell_type": "code",
   "execution_count": 1,
   "metadata": {
    "collapsed": true
   },
   "outputs": [],
   "source": [
    "from dask import do\n",
    "from distributed import LocalCluster, Executor\n",
    "from configparser import ConfigParser\n",
    "import requests\n",
    "import numpy as np"
   ]
  },
  {
   "cell_type": "code",
   "execution_count": 2,
   "metadata": {
    "collapsed": false
   },
   "outputs": [],
   "source": [
    "def get_current(location_str, config):\n",
    "    '''Get latest temperature data from openweather\n",
    "    params:\n",
    "        location_str: string with city,country_code\n",
    "        config: ConfigParser object with openweather section and api_key key\n",
    "    returns:\n",
    "        tuple: (location_str, parsed json response)    \n",
    "    '''\n",
    "    weather_key = config.get('openweather', 'api_key')\n",
    "    resp = requests.get('http://api.openweathermap.org/data/2.5/weather',       \n",
    "                        params={'q': location_str, \n",
    "                                'appid': weather_key, \n",
    "                                'units': 'metric'}) \n",
    "    return location_str, resp.json()\n",
    "   "
   ]
  },
  {
   "cell_type": "code",
   "execution_count": 3,
   "metadata": {
    "collapsed": true
   },
   "outputs": [],
   "source": [
    "def get_forecast(location_str, config):\n",
    "    '''Get forecast temperature data from openweather\n",
    "    params:\n",
    "        location_str: string with city,country_code\n",
    "        config: ConfigParser object with openweather section and api_key key\n",
    "    returns:\n",
    "        tuple: (location_str, parsed json response)\n",
    "    '''\n",
    "    weather_key = config.get('openweather', 'api_key')\n",
    "    resp = requests.get('http://api.openweathermap.org/data/2.5/forecast',       \n",
    "                        params={'q': location_str, \n",
    "                                'appid': weather_key,        \n",
    "                                'units': 'metric'})\n",
    "    return location_str, resp.json()"
   ]
  },
  {
   "cell_type": "code",
   "execution_count": 4,
   "metadata": {
    "collapsed": true
   },
   "outputs": [],
   "source": [
    "def filter_temp(location_str, weather_json):\n",
    "    '''Filter out just the city, temperature, and humidity in forecast or current weather data.\n",
    "    params:\n",
    "        location_str: string with city,country_code\n",
    "        weather_json: json returned from get_forecast or get_current \n",
    "    returns:\n",
    "        dict: containing city names and either list of forecast temps and humidity or current temp and humidity\n",
    "    '''\n",
    "    if 'cod' in weather_json.keys() and int(weather_json['cod']) != 200:\n",
    "        raise ValueError('Bad Data Returned from API: {} - {}'.format(\n",
    "                location_str, weather_json))\n",
    "    try:\n",
    "        api_city_str = '{},{}'.format(weather_json['name'], weather_json['sys']['country'])\n",
    "    except KeyError:\n",
    "        api_city_str = '{},{}'.format(weather_json['city']['name'], weather_json['city']['country'])\n",
    "    resp = {\n",
    "             'search_city': location_str,\n",
    "             'api_city': api_city_str,\n",
    "    }\n",
    "    if 'main' in weather_json.keys():\n",
    "        resp['current_temp'] = weather_json['main']['temp']\n",
    "        resp['current_humidity'] = weather_json['main']['humidity']\n",
    "    else:\n",
    "        resp['forecast_temps'] = [fr['main']['temp'] for fr in weather_json['list']]\n",
    "        resp['forecast_humidity'] = [fr['main']['humidity'] for fr in weather_json['list']]\n",
    "    return resp"
   ]
  },
  {
   "cell_type": "code",
   "execution_count": 5,
   "metadata": {
    "collapsed": true
   },
   "outputs": [],
   "source": [
    "def merge_data(latest, forecast):\n",
    "    ''' Merge data from current and forecast dictionaries and avg forecasts\n",
    "    params:\n",
    "        latest: filtered dictionary from get_latest\n",
    "        forecast: filtered dictionary from get_forecast\n",
    "    returns:\n",
    "        dict: merged dict with additional mean for forecasts\n",
    "    '''\n",
    "    final = latest.copy()\n",
    "    final.update(forecast)\n",
    "    mean_tmp, mean_hum = np.mean(forecast['forecast_temps']), np.mean(forecast['forecast_humidity'])\n",
    "    final['mean_temp'] = np.round(mean_tmp, 2)\n",
    "    final['mean_hum'] = np.round(mean_hum, 2)\n",
    "    return final"
   ]
  },
  {
   "cell_type": "code",
   "execution_count": 6,
   "metadata": {
    "collapsed": true
   },
   "outputs": [],
   "source": [
    "def main(city):\n",
    "    ''' Main function which will take city names and return a final dataset for each city\n",
    "    params:\n",
    "        city: string (ex: 'Berlin,DE')\n",
    "    returns:\n",
    "        dict: current and forecast temps and humidities for given city\n",
    "    '''\n",
    "    config = get_config()\n",
    "    city_str, weather_data = get_current(city, config)\n",
    "    latest = filter_temp(city_str, weather_data)\n",
    "    city_str, weather_data = get_forecast(city, config)\n",
    "    forecast = filter_temp(city_str, weather_data)\n",
    "    final = merge_data(latest, forecast)\n",
    "    return final"
   ]
  },
  {
   "cell_type": "code",
   "execution_count": 7,
   "metadata": {
    "collapsed": true
   },
   "outputs": [],
   "source": [
    "def get_config():\n",
    "    ''' returns config '''\n",
    "    config = ConfigParser()\n",
    "    config.read('../config/prod.cfg')\n",
    "    return config"
   ]
  },
  {
   "cell_type": "code",
   "execution_count": 8,
   "metadata": {
    "collapsed": true
   },
   "outputs": [],
   "source": [
    "city_list = ['London,UK', 'Berlin,DE', 'NewYork,NY', \n",
    "             'LosAngeles,CA', 'Madrid,ES', 'Bangkok,TH', \n",
    "             'Baghdad,IQ', 'Auckland,NZ', 'Istanbul,TR',\n",
    "             'MexicoCity,MX', 'Primavera,CL', 'KualaLumpur,MY',\n",
    "             'Shanghai,CN', 'Chicago,IL', 'Rome,IT', 'Nairobi,KE',\n",
    "             'MachuPicchu,PE', 'Cardiff,UK', 'Somewhere,WL']"
   ]
  },
  {
   "cell_type": "code",
   "execution_count": 9,
   "metadata": {
    "collapsed": false
   },
   "outputs": [
    {
     "name": "stderr",
     "output_type": "stream",
     "text": [
      "requests.packages.urllib3.connectionpool - INFO - Starting new HTTP connection (1): api.openweathermap.org\n",
      "requests.packages.urllib3.connectionpool - INFO - Starting new HTTP connection (1): api.openweathermap.org\n",
      "requests.packages.urllib3.connectionpool - INFO - Starting new HTTP connection (1): api.openweathermap.org\n",
      "requests.packages.urllib3.connectionpool - INFO - Starting new HTTP connection (1): api.openweathermap.org\n",
      "requests.packages.urllib3.connectionpool - INFO - Starting new HTTP connection (1): api.openweathermap.org\n",
      "requests.packages.urllib3.connectionpool - INFO - Starting new HTTP connection (1): api.openweathermap.org\n",
      "requests.packages.urllib3.connectionpool - INFO - Starting new HTTP connection (1): api.openweathermap.org\n",
      "requests.packages.urllib3.connectionpool - INFO - Starting new HTTP connection (1): api.openweathermap.org\n",
      "requests.packages.urllib3.connectionpool - INFO - Starting new HTTP connection (1): api.openweathermap.org\n",
      "requests.packages.urllib3.connectionpool - INFO - Starting new HTTP connection (1): api.openweathermap.org\n",
      "requests.packages.urllib3.connectionpool - INFO - Starting new HTTP connection (1): api.openweathermap.org\n",
      "requests.packages.urllib3.connectionpool - INFO - Starting new HTTP connection (1): api.openweathermap.org\n",
      "requests.packages.urllib3.connectionpool - INFO - Starting new HTTP connection (1): api.openweathermap.org\n",
      "requests.packages.urllib3.connectionpool - INFO - Starting new HTTP connection (1): api.openweathermap.org\n",
      "requests.packages.urllib3.connectionpool - INFO - Starting new HTTP connection (1): api.openweathermap.org\n",
      "requests.packages.urllib3.connectionpool - INFO - Starting new HTTP connection (1): api.openweathermap.org\n",
      "requests.packages.urllib3.connectionpool - INFO - Starting new HTTP connection (1): api.openweathermap.org\n",
      "requests.packages.urllib3.connectionpool - INFO - Starting new HTTP connection (1): api.openweathermap.org\n",
      "requests.packages.urllib3.connectionpool - INFO - Starting new HTTP connection (1): api.openweathermap.org\n",
      "requests.packages.urllib3.connectionpool - INFO - Starting new HTTP connection (1): api.openweathermap.org\n",
      "requests.packages.urllib3.connectionpool - INFO - Starting new HTTP connection (1): api.openweathermap.org\n",
      "requests.packages.urllib3.connectionpool - INFO - Starting new HTTP connection (1): api.openweathermap.org\n",
      "requests.packages.urllib3.connectionpool - INFO - Starting new HTTP connection (1): api.openweathermap.org\n",
      "requests.packages.urllib3.connectionpool - INFO - Starting new HTTP connection (1): api.openweathermap.org\n",
      "requests.packages.urllib3.connectionpool - INFO - Starting new HTTP connection (1): api.openweathermap.org\n",
      "requests.packages.urllib3.connectionpool - INFO - Starting new HTTP connection (1): api.openweathermap.org\n",
      "requests.packages.urllib3.connectionpool - INFO - Starting new HTTP connection (1): api.openweathermap.org\n",
      "requests.packages.urllib3.connectionpool - INFO - Starting new HTTP connection (1): api.openweathermap.org\n",
      "requests.packages.urllib3.connectionpool - INFO - Starting new HTTP connection (1): api.openweathermap.org\n",
      "requests.packages.urllib3.connectionpool - INFO - Starting new HTTP connection (1): api.openweathermap.org\n",
      "requests.packages.urllib3.connectionpool - INFO - Starting new HTTP connection (1): api.openweathermap.org\n",
      "requests.packages.urllib3.connectionpool - INFO - Starting new HTTP connection (1): api.openweathermap.org\n",
      "requests.packages.urllib3.connectionpool - INFO - Starting new HTTP connection (1): api.openweathermap.org\n",
      "requests.packages.urllib3.connectionpool - INFO - Starting new HTTP connection (1): api.openweathermap.org\n",
      "requests.packages.urllib3.connectionpool - INFO - Starting new HTTP connection (1): api.openweathermap.org\n",
      "requests.packages.urllib3.connectionpool - INFO - Starting new HTTP connection (1): api.openweathermap.org\n",
      "requests.packages.urllib3.connectionpool - INFO - Starting new HTTP connection (1): api.openweathermap.org\n"
     ]
    },
    {
     "name": "stdout",
     "output_type": "stream",
     "text": [
      "Somewhere,WL Bad Data Returned from API: Somewhere,WL - {'cod': '404', 'message': 'Error: Not found city'}\n",
      "sorted by current temp:  [{'forecast_humidity': [83, 72, 80, 84, 88, 99, 100, 99, 98, 99, 97, 99, 98, 95, 84, 97, 91, 94, 96, 98, 94, 92, 85, 77, 76, 80, 92, 92, 92, 90, 85, 78, 72, 78, 87, 89, 91], 'mean_hum': 89.219999999999999, 'current_humidity': 52, 'search_city': 'Bangkok,TH', 'current_temp': 34.15, 'forecast_temps': [32.16, 30.5, 28.26, 26.88, 25.88, 24.15, 24.82, 24.72, 24.47, 23.85, 24.17, 24.2, 23.78, 24.78, 28.84, 26.69, 27.3, 24.73, 23.78, 23.42, 23.86, 25.28, 29.83, 30.26, 29.73, 27.92, 25.62, 24.9, 23.96, 24.98, 31.04, 32.53, 32.07, 28.26, 25.58, 24.34, 24.04], 'api_city': 'Bangkok,TH', 'mean_temp': 26.530000000000001}, {'forecast_humidity': [29, 25, 24, 32, 38, 45, 53, 37, 31, 25, 23, 31, 35, 41, 46, 37, 32, 25, 24, 49, 43, 43, 64, 35, 32, 27, 25, 52, 56, 59, 59, 31, 31, 26, 28, 50, 58], 'mean_hum': 37.859999999999999, 'current_humidity': 26, 'search_city': 'Baghdad,IQ', 'current_temp': 34, 'forecast_temps': [38.75, 39.21, 35.75, 29.4, 26.73, 26.25, 25.12, 32.57, 36.82, 37.4, 33.87, 28, 26.63, 25.53, 24.24, 32.44, 36.95, 37.43, 33.83, 25.47, 23.11, 21.88, 19.88, 32.26, 37.38, 38.42, 34.57, 25.9, 22.91, 21.38, 20.69, 34.43, 38.12, 39.26, 34.73, 26.34, 23.39], 'api_city': 'Baghdad,IQ', 'mean_temp': 30.460000000000001}, {'forecast_humidity': [78, 83, 100, 100, 100, 100, 100, 95, 91, 95, 99, 98, 97, 95, 89, 81, 75, 81, 91, 94, 94, 95, 81, 76, 75, 79, 92, 100, 100, 100, 100, 90, 93, 94, 100, 100, 100, 100], 'mean_hum': 92.390000000000001, 'current_humidity': 62, 'search_city': 'KualaLumpur,MY', 'current_temp': 32.67, 'forecast_temps': [33.46, 31.63, 25.93, 25.89, 25.53, 25.71, 28.04, 29.75, 29.76, 28.4, 27.67, 27.67, 27.36, 27.57, 29.89, 31, 31.17, 29.16, 27.27, 26.47, 26.21, 26.38, 30.48, 32.01, 31.43, 29.97, 27.52, 25, 23.61, 24.08, 26.84, 29.68, 28.17, 27.41, 26.18, 25.74, 23.24, 24.11], 'api_city': 'Kuala Lumpur,MY', 'mean_temp': 27.829999999999998}, {'forecast_humidity': [53, 68, 80, 84, 88, 72, 55, 50, 46, 61, 77, 92, 94, 63, 50, 44, 40, 60, 56, 68, 86, 63, 49, 46, 45, 54, 85, 97, 98, 73, 54, 47, 47, 63, 82, 89, 92], 'mean_hum': 66.780000000000001, 'current_humidity': 69, 'search_city': 'Shanghai,CN', 'current_temp': 27.03, 'forecast_temps': [26.45, 24.38, 23.63, 23.49, 23.48, 26.6, 30.17, 31.62, 31.12, 25.85, 23.12, 21, 19.98, 27.68, 32.69, 33.89, 32.6, 29.13, 27.88, 25.57, 23.46, 27.28, 30.98, 32.46, 31.43, 26.87, 23.67, 22.45, 22.31, 26.93, 31.49, 31.88, 30.12, 25.91, 23.18, 21.99, 21.74], 'api_city': 'Shanghai,CN', 'mean_temp': 26.879999999999999}, {'forecast_humidity': [87, 84, 87, 92, 90, 94, 96, 88, 84, 84, 86, 88, 89, 89, 88, 84, 81, 80, 82, 89, 94, 96, 97, 91, 87, 85, 87, 96, 97, 98, 99, 94, 87, 82, 84, 90, 94, 96], 'mean_hum': 89.370000000000005, 'current_humidity': 57, 'search_city': 'Istanbul,TR', 'current_temp': 26.27, 'forecast_temps': [27.54, 27.37, 26.52, 25.88, 25.78, 25.01, 25.19, 26.55, 27.02, 26.71, 26.04, 25.49, 25.23, 24.95, 24.77, 25.48, 26.01, 26, 25.12, 24.07, 23.56, 23.23, 22.98, 24.21, 24.98, 25.07, 24.42, 23.3, 22.81, 22.48, 22.24, 23.78, 24.67, 25.01, 24.48, 23.44, 22.94, 22.61], 'api_city': 'Istanbul,TR', 'mean_temp': 24.809999999999999}, {'forecast_humidity': [26, 23, 21, 23, 31, 32, 54, 66, 26, 22, 20, 19, 26, 51, 62, 67, 27, 23, 19, 17, 30, 54, 67, 70, 36, 28, 25, 25, 37, 56, 60, 60, 23, 22, 21, 24, 45, 69], 'mean_hum': 37.030000000000001, 'current_humidity': 31, 'search_city': 'Madrid,ES', 'current_temp': 25.12, 'forecast_temps': [33.49, 39.46, 41.05, 38.16, 29, 25.62, 21.85, 19.65, 32.06, 37.64, 39.16, 35.81, 29.34, 23.35, 19.81, 17.76, 29.34, 34.42, 34.33, 30.57, 22.96, 19.23, 16.83, 16.51, 25.48, 31.22, 32.77, 30.65, 22.56, 18.13, 16.14, 14.88, 27.17, 32.06, 32.98, 30.09, 21.79, 18.06], 'api_city': 'Madrid,ES', 'mean_temp': 27.399999999999999}, {'forecast_humidity': [86, 88, 76, 70, 79, 73, 77, 79, 81, 82, 79, 71, 67, 75, 87, 95, 100, 97, 95, 90, 87, 92, 100, 100, 100, 100, 99, 87, 94, 100, 100, 100, 100, 100, 100, 100, 100], 'mean_hum': 89.349999999999994, 'current_humidity': 78, 'search_city': 'Chicago,IL', 'current_temp': 24.74, 'forecast_temps': [24.48, 24.2, 26.54, 28.4, 26.18, 27.25, 26.42, 25.92, 25.52, 25.35, 26.42, 28.3, 28.88, 27.63, 24.69, 23.04, 22.25, 22.73, 23.38, 24.32, 24.61, 22.88, 21.23, 19.91, 19.23, 19.12, 21.77, 24.05, 22.41, 21.77, 21.29, 21.78, 19.52, 16.16, 16.83, 19.14, 20.34], 'api_city': 'Chicago,US', 'mean_temp': 23.350000000000001}, {'forecast_humidity': [67, 71, 65, 71, 85, 83, 83, 87, 94, 89, 73, 74, 72, 73, 85, 96, 96, 90, 76, 67, 64, 62, 64, 63, 63, 63, 58, 50, 43, 44, 59, 73, 89, 80, 54, 52, 45], 'mean_hum': 70.890000000000001, 'current_humidity': 60, 'search_city': 'NewYork,NY', 'current_temp': 23.04, 'forecast_temps': [23.39, 23.75, 26.22, 25.61, 23.23, 23.4, 23.17, 22.62, 21.67, 22.35, 26.22, 26.15, 26.38, 25.63, 23.24, 20.89, 20.25, 22.83, 25.88, 28.92, 29.66, 28.83, 27.78, 27.46, 26.78, 26.87, 30.37, 31.95, 32.01, 29.27, 24.74, 21.63, 20.02, 22.41, 28.58, 32.04, 33.44], 'api_city': 'New York,US', 'mean_temp': 25.829999999999998}, {'forecast_humidity': [47, 40, 40, 47, 54, 60, 72, 63, 46, 42, 41, 48, 66, 77, 92, 84, 52, 44, 41, 51, 83, 85, 89, 77, 53, 47, 76, 85, 90, 94, 92, 84, 63, 52, 78, 81, 88], 'mean_hum': 65.510000000000005, 'current_humidity': 56, 'search_city': 'Rome,IT', 'current_temp': 22.49, 'forecast_temps': [26.89, 27.29, 24.92, 21.71, 19.58, 18.95, 18.17, 20.82, 26.67, 28.4, 27.47, 24.5, 20.38, 18.33, 15.69, 17.34, 25.85, 28.53, 27.98, 24.67, 19.16, 16.98, 15.68, 17.81, 25.98, 28.57, 23.87, 21.55, 17.96, 16.98, 15.64, 17.98, 25.87, 29.01, 24.83, 22.04, 19.09], 'api_city': 'Trevi,IT', 'mean_temp': 22.25}, {'forecast_humidity': [82, 78, 73, 69, 82, 89, 100, 97, 78, 72, 62, 60, 68, 75, 64, 75, 60, 52, 54, 52, 65, 72, 87, 95, 88, 71, 62, 59, 74, 81, 84, 86, 82, 73, 70, 94, 100], 'mean_hum': 75.269999999999996, 'current_humidity': 88, 'search_city': 'London,UK', 'current_temp': 20.09, 'forecast_temps': [22.81, 24.98, 25.58, 24.04, 19.58, 17.35, 14.92, 13.12, 20.67, 25.15, 26.97, 25.5, 21.03, 18.68, 17.54, 15.69, 22.65, 26.03, 26.18, 21.57, 18.31, 16.73, 15.73, 16.36, 18.28, 19.97, 21.52, 19.3, 17.01, 16.43, 17.29, 17.88, 19.27, 20.66, 20.73, 17.84, 16.39], 'api_city': 'London,GB', 'mean_temp': 19.989999999999998}, {'forecast_humidity': [98, 95, 94, 93, 99, 100, 100, 99, 100, 92, 86, 84, 86, 87, 78, 84, 93, 85, 80, 77, 80, 80, 81, 82, 85, 85, 82, 78, 87, 89, 97, 100, 100, 100, 100, 100, 100, 99], 'mean_hum': 90.390000000000001, 'current_humidity': 93, 'search_city': 'Cardiff,UK', 'current_temp': 19.1, 'forecast_temps': [18.99, 19.98, 19.93, 19.5, 18.5, 18.04, 17.53, 16.74, 18.32, 21.21, 23.2, 22.7, 20.25, 18.62, 17.9, 16.46, 18.05, 18.74, 17.61, 16.47, 16.11, 15.93, 15.33, 15.41, 15.93, 16.97, 17.67, 17.15, 17.06, 17.33, 16.89, 16.03, 15.02, 14.16, 13.98, 13.89, 11.54, 11.06], 'api_city': 'Cardiff,GB', 'mean_temp': 17.27}, {'forecast_humidity': [65, 55, 56, 72, 85, 85, 84, 78, 60, 52, 53, 82, 81, 84, 83, 75, 56, 46, 47, 60, 84, 85, 93, 69, 43, 36, 37, 51, 86, 93, 90, 82, 50, 42, 42, 57, 78], 'mean_hum': 66.950000000000003, 'current_humidity': 68, 'search_city': 'Nairobi,KE', 'current_temp': 17.91, 'forecast_temps': [21.73, 24.03, 20.99, 16.22, 11.48, 8.75, 8.47, 14.62, 20.52, 23.05, 20.67, 14.75, 11.68, 9.03, 8.59, 16.04, 21.85, 24.23, 21.68, 17.87, 12.46, 9.13, 9.48, 16.61, 22.53, 24.17, 21.17, 15.95, 12.16, 11.58, 11.09, 16.43, 22.52, 24.21, 21.68, 18.59, 14.69], 'api_city': 'Nairobi,KE', 'mean_temp': 16.780000000000001}, {'forecast_humidity': [90, 89, 85, 56, 49, 47, 68, 91, 87, 84, 68, 46, 39, 37, 63, 80, 81, 82, 73, 46, 41, 39, 60, 86, 90, 88, 80, 47, 42, 40, 57, 77, 79, 82, 70, 44, 43], 'mean_hum': 65.569999999999993, 'current_humidity': 82, 'search_city': 'LosAngeles,CA', 'current_temp': 16.8, 'forecast_temps': [14.1, 12.17, 14.25, 23.5, 26.63, 26.55, 20.12, 14.37, 12.12, 11.1, 15.32, 27, 30.13, 29.28, 21.54, 16.04, 13.65, 12.18, 15.53, 26.62, 28.71, 27.28, 20.58, 14.96, 12.83, 11.27, 14.52, 24.95, 28.06, 27.33, 20.39, 15.43, 13.82, 12.66, 16.23, 27.44, 30.29], 'api_city': 'Los Angeles,US', 'mean_temp': 19.699999999999999}, {'forecast_humidity': [92, 90, 81, 88, 84, 91, 83, 82, 88, 78, 69, 79, 82, 80, 77, 78, 78, 76, 70, 75, 82, 83, 80, 82, 77, 69, 64, 68, 67, 87, 87, 88, 81, 75, 65, 68, 71], 'mean_hum': 78.780000000000001, 'current_humidity': 87, 'search_city': 'Berlin,DE', 'current_temp': 15.25, 'forecast_temps': [21.33, 22.63, 22.39, 16.77, 11.83, 10.95, 8.52, 11.27, 19.22, 21.5, 22.32, 17.15, 12.08, 9.78, 8.44, 10.99, 21.35, 24.43, 25.53, 21.22, 18.71, 15.03, 13.63, 15.71, 24.28, 26.67, 25.92, 22.15, 19.91, 14.48, 12.29, 14.38, 22.02, 24.01, 24.78, 20.24, 17.49], 'api_city': 'Berlin,DE', 'mean_temp': 18.149999999999999}, {'forecast_humidity': [97, 98, 81, 58, 49, 51, 80, 92, 94, 94, 77, 58, 60, 92, 98, 94, 90, 91, 87, 62, 75, 61, 96, 100, 90, 79, 69, 56, 63, 65, 94, 99, 99, 95, 73, 55, 59], 'mean_hum': 79.219999999999999, 'current_humidity': 72, 'search_city': 'MexicoCity,MX', 'current_temp': 14.47, 'forecast_temps': [12.9, 12.92, 16.45, 21.25, 21.68, 19.25, 13.52, 10.77, 9.72, 8.85, 15.32, 20.1, 19.83, 14.73, 10.19, 7.94, 6.7, 6.38, 14.18, 20.12, 18.46, 17.78, 12.38, 9.46, 7.83, 6.42, 14.62, 20.6, 19.66, 17.73, 12.64, 10.63, 8.82, 6.96, 15.78, 21.74, 20.74], 'api_city': 'Mexico City,MX', 'mean_temp': 14.19}, {'forecast_humidity': [100, 100, 100, 100, 100, 96, 94, 97, 98, 99, 98, 100, 100, 100, 100, 100, 100, 100, 100, 100, 100, 95, 89, 92, 98, 100, 100, 100, 100, 97, 95, 95, 100, 100, 100, 100, 100], 'mean_hum': 98.459999999999994, 'current_humidity': 76, 'search_city': 'Auckland,NZ', 'current_temp': 12.28, 'forecast_temps': [11.77, 11.18, 10.86, 11.41, 12.58, 13.6, 13.97, 13.52, 12.62, 12.35, 12.02, 9.5, 10.63, 10.63, 11.24, 10.59, 10.25, 9.93, 9.78, 9.87, 11.16, 12.63, 13.58, 12.86, 11.78, 10.92, 10.52, 10.05, 11.41, 13.02, 13.19, 12.73, 11.87, 11.26, 10.48, 10.04, 12.74], 'api_city': 'Auckland,NZ', 'mean_temp': 11.58}, {'forecast_humidity': [81, 89, 81, 74, 69, 74, 73, 72, 71, 71, 71, 70, 89, 93, 93, 91, 89, 100, 95, 87, 85, 86, 86, 85, 83, 84, 82, 79, 78, 84, 83, 83, 82, 80, 81, 78, 78], 'mean_hum': 81.890000000000001, 'current_humidity': 87, 'search_city': 'Primavera,CL', 'current_temp': 5.76, 'forecast_temps': [5.35, 5.52, 7.75, 8.55, 9.43, 8.6, 8.92, 8.87, 8.87, 8.9, 9.67, 10.55, 8.38, 6.93, 5.69, 5.49, 5.85, 4.43, 3.88, 4.22, 3.91, 3.78, 3.83, 4.26, 4.93, 5.07, 5.52, 6.15, 6.06, 4.98, 5.14, 5.43, 5.62, 5.91, 6.78, 7.24, 6.99], 'api_city': 'Porvenir,CL', 'mean_temp': 6.4199999999999999}, {'forecast_humidity': [96, 84, 50, 40, 48, 76, 94, 91, 95, 90, 44, 33, 38, 65, 88, 93, 95, 84, 51, 41, 49, 70, 88, 95, 93, 79, 45, 45, 50, 72, 86, 93, 92, 85, 44, 39, 48, 65], 'mean_hum': 69.319999999999993, 'current_humidity': 100, 'search_city': 'MachuPicchu,PE', 'current_temp': -1.25, 'forecast_temps': [1.4, 3.91, 13.4, 16.35, 14.03, 8.65, 6.52, 4.97, 3.27, 4.9, 14.67, 17.6, 15.63, 9.48, 5.34, 4.19, 3.5, 5.23, 14.33, 16.47, 13.71, 8.53, 4.43, 3.06, 1.78, 4.67, 13.37, 15.25, 13.31, 8.77, 4.94, 3.63, 2.67, 4.66, 14.33, 15.54, 13.19, 9.41], 'api_city': 'Ollantaytambo,PE', 'mean_temp': 8.9199999999999999}]\n",
      "sorted by upcoming forecast temp:  [{'forecast_humidity': [29, 25, 24, 32, 38, 45, 53, 37, 31, 25, 23, 31, 35, 41, 46, 37, 32, 25, 24, 49, 43, 43, 64, 35, 32, 27, 25, 52, 56, 59, 59, 31, 31, 26, 28, 50, 58], 'mean_hum': 37.859999999999999, 'current_humidity': 26, 'search_city': 'Baghdad,IQ', 'current_temp': 34, 'forecast_temps': [38.75, 39.21, 35.75, 29.4, 26.73, 26.25, 25.12, 32.57, 36.82, 37.4, 33.87, 28, 26.63, 25.53, 24.24, 32.44, 36.95, 37.43, 33.83, 25.47, 23.11, 21.88, 19.88, 32.26, 37.38, 38.42, 34.57, 25.9, 22.91, 21.38, 20.69, 34.43, 38.12, 39.26, 34.73, 26.34, 23.39], 'api_city': 'Baghdad,IQ', 'mean_temp': 30.460000000000001}, {'forecast_humidity': [78, 83, 100, 100, 100, 100, 100, 95, 91, 95, 99, 98, 97, 95, 89, 81, 75, 81, 91, 94, 94, 95, 81, 76, 75, 79, 92, 100, 100, 100, 100, 90, 93, 94, 100, 100, 100, 100], 'mean_hum': 92.390000000000001, 'current_humidity': 62, 'search_city': 'KualaLumpur,MY', 'current_temp': 32.67, 'forecast_temps': [33.46, 31.63, 25.93, 25.89, 25.53, 25.71, 28.04, 29.75, 29.76, 28.4, 27.67, 27.67, 27.36, 27.57, 29.89, 31, 31.17, 29.16, 27.27, 26.47, 26.21, 26.38, 30.48, 32.01, 31.43, 29.97, 27.52, 25, 23.61, 24.08, 26.84, 29.68, 28.17, 27.41, 26.18, 25.74, 23.24, 24.11], 'api_city': 'Kuala Lumpur,MY', 'mean_temp': 27.829999999999998}, {'forecast_humidity': [26, 23, 21, 23, 31, 32, 54, 66, 26, 22, 20, 19, 26, 51, 62, 67, 27, 23, 19, 17, 30, 54, 67, 70, 36, 28, 25, 25, 37, 56, 60, 60, 23, 22, 21, 24, 45, 69], 'mean_hum': 37.030000000000001, 'current_humidity': 31, 'search_city': 'Madrid,ES', 'current_temp': 25.12, 'forecast_temps': [33.49, 39.46, 41.05, 38.16, 29, 25.62, 21.85, 19.65, 32.06, 37.64, 39.16, 35.81, 29.34, 23.35, 19.81, 17.76, 29.34, 34.42, 34.33, 30.57, 22.96, 19.23, 16.83, 16.51, 25.48, 31.22, 32.77, 30.65, 22.56, 18.13, 16.14, 14.88, 27.17, 32.06, 32.98, 30.09, 21.79, 18.06], 'api_city': 'Madrid,ES', 'mean_temp': 27.399999999999999}, {'forecast_humidity': [53, 68, 80, 84, 88, 72, 55, 50, 46, 61, 77, 92, 94, 63, 50, 44, 40, 60, 56, 68, 86, 63, 49, 46, 45, 54, 85, 97, 98, 73, 54, 47, 47, 63, 82, 89, 92], 'mean_hum': 66.780000000000001, 'current_humidity': 69, 'search_city': 'Shanghai,CN', 'current_temp': 27.03, 'forecast_temps': [26.45, 24.38, 23.63, 23.49, 23.48, 26.6, 30.17, 31.62, 31.12, 25.85, 23.12, 21, 19.98, 27.68, 32.69, 33.89, 32.6, 29.13, 27.88, 25.57, 23.46, 27.28, 30.98, 32.46, 31.43, 26.87, 23.67, 22.45, 22.31, 26.93, 31.49, 31.88, 30.12, 25.91, 23.18, 21.99, 21.74], 'api_city': 'Shanghai,CN', 'mean_temp': 26.879999999999999}, {'forecast_humidity': [83, 72, 80, 84, 88, 99, 100, 99, 98, 99, 97, 99, 98, 95, 84, 97, 91, 94, 96, 98, 94, 92, 85, 77, 76, 80, 92, 92, 92, 90, 85, 78, 72, 78, 87, 89, 91], 'mean_hum': 89.219999999999999, 'current_humidity': 52, 'search_city': 'Bangkok,TH', 'current_temp': 34.15, 'forecast_temps': [32.16, 30.5, 28.26, 26.88, 25.88, 24.15, 24.82, 24.72, 24.47, 23.85, 24.17, 24.2, 23.78, 24.78, 28.84, 26.69, 27.3, 24.73, 23.78, 23.42, 23.86, 25.28, 29.83, 30.26, 29.73, 27.92, 25.62, 24.9, 23.96, 24.98, 31.04, 32.53, 32.07, 28.26, 25.58, 24.34, 24.04], 'api_city': 'Bangkok,TH', 'mean_temp': 26.530000000000001}, {'forecast_humidity': [67, 71, 65, 71, 85, 83, 83, 87, 94, 89, 73, 74, 72, 73, 85, 96, 96, 90, 76, 67, 64, 62, 64, 63, 63, 63, 58, 50, 43, 44, 59, 73, 89, 80, 54, 52, 45], 'mean_hum': 70.890000000000001, 'current_humidity': 60, 'search_city': 'NewYork,NY', 'current_temp': 23.04, 'forecast_temps': [23.39, 23.75, 26.22, 25.61, 23.23, 23.4, 23.17, 22.62, 21.67, 22.35, 26.22, 26.15, 26.38, 25.63, 23.24, 20.89, 20.25, 22.83, 25.88, 28.92, 29.66, 28.83, 27.78, 27.46, 26.78, 26.87, 30.37, 31.95, 32.01, 29.27, 24.74, 21.63, 20.02, 22.41, 28.58, 32.04, 33.44], 'api_city': 'New York,US', 'mean_temp': 25.829999999999998}, {'forecast_humidity': [87, 84, 87, 92, 90, 94, 96, 88, 84, 84, 86, 88, 89, 89, 88, 84, 81, 80, 82, 89, 94, 96, 97, 91, 87, 85, 87, 96, 97, 98, 99, 94, 87, 82, 84, 90, 94, 96], 'mean_hum': 89.370000000000005, 'current_humidity': 57, 'search_city': 'Istanbul,TR', 'current_temp': 26.27, 'forecast_temps': [27.54, 27.37, 26.52, 25.88, 25.78, 25.01, 25.19, 26.55, 27.02, 26.71, 26.04, 25.49, 25.23, 24.95, 24.77, 25.48, 26.01, 26, 25.12, 24.07, 23.56, 23.23, 22.98, 24.21, 24.98, 25.07, 24.42, 23.3, 22.81, 22.48, 22.24, 23.78, 24.67, 25.01, 24.48, 23.44, 22.94, 22.61], 'api_city': 'Istanbul,TR', 'mean_temp': 24.809999999999999}, {'forecast_humidity': [86, 88, 76, 70, 79, 73, 77, 79, 81, 82, 79, 71, 67, 75, 87, 95, 100, 97, 95, 90, 87, 92, 100, 100, 100, 100, 99, 87, 94, 100, 100, 100, 100, 100, 100, 100, 100], 'mean_hum': 89.349999999999994, 'current_humidity': 78, 'search_city': 'Chicago,IL', 'current_temp': 24.74, 'forecast_temps': [24.48, 24.2, 26.54, 28.4, 26.18, 27.25, 26.42, 25.92, 25.52, 25.35, 26.42, 28.3, 28.88, 27.63, 24.69, 23.04, 22.25, 22.73, 23.38, 24.32, 24.61, 22.88, 21.23, 19.91, 19.23, 19.12, 21.77, 24.05, 22.41, 21.77, 21.29, 21.78, 19.52, 16.16, 16.83, 19.14, 20.34], 'api_city': 'Chicago,US', 'mean_temp': 23.350000000000001}, {'forecast_humidity': [47, 40, 40, 47, 54, 60, 72, 63, 46, 42, 41, 48, 66, 77, 92, 84, 52, 44, 41, 51, 83, 85, 89, 77, 53, 47, 76, 85, 90, 94, 92, 84, 63, 52, 78, 81, 88], 'mean_hum': 65.510000000000005, 'current_humidity': 56, 'search_city': 'Rome,IT', 'current_temp': 22.49, 'forecast_temps': [26.89, 27.29, 24.92, 21.71, 19.58, 18.95, 18.17, 20.82, 26.67, 28.4, 27.47, 24.5, 20.38, 18.33, 15.69, 17.34, 25.85, 28.53, 27.98, 24.67, 19.16, 16.98, 15.68, 17.81, 25.98, 28.57, 23.87, 21.55, 17.96, 16.98, 15.64, 17.98, 25.87, 29.01, 24.83, 22.04, 19.09], 'api_city': 'Trevi,IT', 'mean_temp': 22.25}, {'forecast_humidity': [82, 78, 73, 69, 82, 89, 100, 97, 78, 72, 62, 60, 68, 75, 64, 75, 60, 52, 54, 52, 65, 72, 87, 95, 88, 71, 62, 59, 74, 81, 84, 86, 82, 73, 70, 94, 100], 'mean_hum': 75.269999999999996, 'current_humidity': 88, 'search_city': 'London,UK', 'current_temp': 20.09, 'forecast_temps': [22.81, 24.98, 25.58, 24.04, 19.58, 17.35, 14.92, 13.12, 20.67, 25.15, 26.97, 25.5, 21.03, 18.68, 17.54, 15.69, 22.65, 26.03, 26.18, 21.57, 18.31, 16.73, 15.73, 16.36, 18.28, 19.97, 21.52, 19.3, 17.01, 16.43, 17.29, 17.88, 19.27, 20.66, 20.73, 17.84, 16.39], 'api_city': 'London,GB', 'mean_temp': 19.989999999999998}, {'forecast_humidity': [90, 89, 85, 56, 49, 47, 68, 91, 87, 84, 68, 46, 39, 37, 63, 80, 81, 82, 73, 46, 41, 39, 60, 86, 90, 88, 80, 47, 42, 40, 57, 77, 79, 82, 70, 44, 43], 'mean_hum': 65.569999999999993, 'current_humidity': 82, 'search_city': 'LosAngeles,CA', 'current_temp': 16.8, 'forecast_temps': [14.1, 12.17, 14.25, 23.5, 26.63, 26.55, 20.12, 14.37, 12.12, 11.1, 15.32, 27, 30.13, 29.28, 21.54, 16.04, 13.65, 12.18, 15.53, 26.62, 28.71, 27.28, 20.58, 14.96, 12.83, 11.27, 14.52, 24.95, 28.06, 27.33, 20.39, 15.43, 13.82, 12.66, 16.23, 27.44, 30.29], 'api_city': 'Los Angeles,US', 'mean_temp': 19.699999999999999}, {'forecast_humidity': [92, 90, 81, 88, 84, 91, 83, 82, 88, 78, 69, 79, 82, 80, 77, 78, 78, 76, 70, 75, 82, 83, 80, 82, 77, 69, 64, 68, 67, 87, 87, 88, 81, 75, 65, 68, 71], 'mean_hum': 78.780000000000001, 'current_humidity': 87, 'search_city': 'Berlin,DE', 'current_temp': 15.25, 'forecast_temps': [21.33, 22.63, 22.39, 16.77, 11.83, 10.95, 8.52, 11.27, 19.22, 21.5, 22.32, 17.15, 12.08, 9.78, 8.44, 10.99, 21.35, 24.43, 25.53, 21.22, 18.71, 15.03, 13.63, 15.71, 24.28, 26.67, 25.92, 22.15, 19.91, 14.48, 12.29, 14.38, 22.02, 24.01, 24.78, 20.24, 17.49], 'api_city': 'Berlin,DE', 'mean_temp': 18.149999999999999}, {'forecast_humidity': [98, 95, 94, 93, 99, 100, 100, 99, 100, 92, 86, 84, 86, 87, 78, 84, 93, 85, 80, 77, 80, 80, 81, 82, 85, 85, 82, 78, 87, 89, 97, 100, 100, 100, 100, 100, 100, 99], 'mean_hum': 90.390000000000001, 'current_humidity': 93, 'search_city': 'Cardiff,UK', 'current_temp': 19.1, 'forecast_temps': [18.99, 19.98, 19.93, 19.5, 18.5, 18.04, 17.53, 16.74, 18.32, 21.21, 23.2, 22.7, 20.25, 18.62, 17.9, 16.46, 18.05, 18.74, 17.61, 16.47, 16.11, 15.93, 15.33, 15.41, 15.93, 16.97, 17.67, 17.15, 17.06, 17.33, 16.89, 16.03, 15.02, 14.16, 13.98, 13.89, 11.54, 11.06], 'api_city': 'Cardiff,GB', 'mean_temp': 17.27}, {'forecast_humidity': [65, 55, 56, 72, 85, 85, 84, 78, 60, 52, 53, 82, 81, 84, 83, 75, 56, 46, 47, 60, 84, 85, 93, 69, 43, 36, 37, 51, 86, 93, 90, 82, 50, 42, 42, 57, 78], 'mean_hum': 66.950000000000003, 'current_humidity': 68, 'search_city': 'Nairobi,KE', 'current_temp': 17.91, 'forecast_temps': [21.73, 24.03, 20.99, 16.22, 11.48, 8.75, 8.47, 14.62, 20.52, 23.05, 20.67, 14.75, 11.68, 9.03, 8.59, 16.04, 21.85, 24.23, 21.68, 17.87, 12.46, 9.13, 9.48, 16.61, 22.53, 24.17, 21.17, 15.95, 12.16, 11.58, 11.09, 16.43, 22.52, 24.21, 21.68, 18.59, 14.69], 'api_city': 'Nairobi,KE', 'mean_temp': 16.780000000000001}, {'forecast_humidity': [97, 98, 81, 58, 49, 51, 80, 92, 94, 94, 77, 58, 60, 92, 98, 94, 90, 91, 87, 62, 75, 61, 96, 100, 90, 79, 69, 56, 63, 65, 94, 99, 99, 95, 73, 55, 59], 'mean_hum': 79.219999999999999, 'current_humidity': 72, 'search_city': 'MexicoCity,MX', 'current_temp': 14.47, 'forecast_temps': [12.9, 12.92, 16.45, 21.25, 21.68, 19.25, 13.52, 10.77, 9.72, 8.85, 15.32, 20.1, 19.83, 14.73, 10.19, 7.94, 6.7, 6.38, 14.18, 20.12, 18.46, 17.78, 12.38, 9.46, 7.83, 6.42, 14.62, 20.6, 19.66, 17.73, 12.64, 10.63, 8.82, 6.96, 15.78, 21.74, 20.74], 'api_city': 'Mexico City,MX', 'mean_temp': 14.19}, {'forecast_humidity': [100, 100, 100, 100, 100, 96, 94, 97, 98, 99, 98, 100, 100, 100, 100, 100, 100, 100, 100, 100, 100, 95, 89, 92, 98, 100, 100, 100, 100, 97, 95, 95, 100, 100, 100, 100, 100], 'mean_hum': 98.459999999999994, 'current_humidity': 76, 'search_city': 'Auckland,NZ', 'current_temp': 12.28, 'forecast_temps': [11.77, 11.18, 10.86, 11.41, 12.58, 13.6, 13.97, 13.52, 12.62, 12.35, 12.02, 9.5, 10.63, 10.63, 11.24, 10.59, 10.25, 9.93, 9.78, 9.87, 11.16, 12.63, 13.58, 12.86, 11.78, 10.92, 10.52, 10.05, 11.41, 13.02, 13.19, 12.73, 11.87, 11.26, 10.48, 10.04, 12.74], 'api_city': 'Auckland,NZ', 'mean_temp': 11.58}, {'forecast_humidity': [96, 84, 50, 40, 48, 76, 94, 91, 95, 90, 44, 33, 38, 65, 88, 93, 95, 84, 51, 41, 49, 70, 88, 95, 93, 79, 45, 45, 50, 72, 86, 93, 92, 85, 44, 39, 48, 65], 'mean_hum': 69.319999999999993, 'current_humidity': 100, 'search_city': 'MachuPicchu,PE', 'current_temp': -1.25, 'forecast_temps': [1.4, 3.91, 13.4, 16.35, 14.03, 8.65, 6.52, 4.97, 3.27, 4.9, 14.67, 17.6, 15.63, 9.48, 5.34, 4.19, 3.5, 5.23, 14.33, 16.47, 13.71, 8.53, 4.43, 3.06, 1.78, 4.67, 13.37, 15.25, 13.31, 8.77, 4.94, 3.63, 2.67, 4.66, 14.33, 15.54, 13.19, 9.41], 'api_city': 'Ollantaytambo,PE', 'mean_temp': 8.9199999999999999}, {'forecast_humidity': [81, 89, 81, 74, 69, 74, 73, 72, 71, 71, 71, 70, 89, 93, 93, 91, 89, 100, 95, 87, 85, 86, 86, 85, 83, 84, 82, 79, 78, 84, 83, 83, 82, 80, 81, 78, 78], 'mean_hum': 81.890000000000001, 'current_humidity': 87, 'search_city': 'Primavera,CL', 'current_temp': 5.76, 'forecast_temps': [5.35, 5.52, 7.75, 8.55, 9.43, 8.6, 8.92, 8.87, 8.87, 8.9, 9.67, 10.55, 8.38, 6.93, 5.69, 5.49, 5.85, 4.43, 3.88, 4.22, 3.91, 3.78, 3.83, 4.26, 4.93, 5.07, 5.52, 6.15, 6.06, 4.98, 5.14, 5.43, 5.62, 5.91, 6.78, 7.24, 6.99], 'api_city': 'Porvenir,CL', 'mean_temp': 6.4199999999999999}]\n",
      "CPU times: user 164 ms, sys: 28 ms, total: 192 ms\n",
      "Wall time: 3.65 s\n"
     ]
    }
   ],
   "source": [
    "%%time\n",
    "res = []\n",
    "for city in city_list:\n",
    "    try:\n",
    "        final = main(city)\n",
    "        res.append(final)\n",
    "    except Exception as e:\n",
    "        print(city, e)\n",
    "\n",
    "print('sorted by current temp: ', sorted(res, key=lambda x: x.get('current_temp'), reverse=True))\n",
    "print('sorted by upcoming forecast temp: ', sorted(res, key=lambda x: x.get('mean_temp'), reverse=True))"
   ]
  },
  {
   "cell_type": "code",
   "execution_count": 10,
   "metadata": {
    "collapsed": false
   },
   "outputs": [],
   "source": [
    "c = LocalCluster()"
   ]
  },
  {
   "cell_type": "code",
   "execution_count": 11,
   "metadata": {
    "collapsed": false
   },
   "outputs": [
    {
     "name": "stderr",
     "output_type": "stream",
     "text": [
      "/home/katharine/.virtualenv/data_pipelines/lib/python3.4/site-packages/distributed/bokeh/application.py - INFO -  Bokeh UI at:  http://127.0.0.1:8787/status/\n"
     ]
    }
   ],
   "source": [
    "c.start_diagnostics_server(show=True) "
   ]
  },
  {
   "cell_type": "code",
   "execution_count": 12,
   "metadata": {
    "collapsed": true
   },
   "outputs": [],
   "source": [
    "e = Executor(c)"
   ]
  },
  {
   "cell_type": "code",
   "execution_count": 13,
   "metadata": {
    "collapsed": false
   },
   "outputs": [
    {
     "name": "stdout",
     "output_type": "stream",
     "text": [
      "[<Future: status: pending, key: main-189a8f61630da68066ad8287f070b8ea>, <Future: status: pending, key: main-b67bf67cf33a0da835476242b530363b>, <Future: status: pending, key: main-e1f4d25735bd44f90a7a79e9c48424b3>, <Future: status: pending, key: main-a40de7f26ee7767a3a7471a1cc3e0eb6>, <Future: status: pending, key: main-fda51f794c8530d33a9bc10064d37ee3>, <Future: status: pending, key: main-170951ae38f1a917c19414a18f01558a>, <Future: status: pending, key: main-66ad48082a9197924da6d23f455a68bf>, <Future: status: pending, key: main-312676950045989c85956638ec088c8e>, <Future: status: pending, key: main-9d76328810ca2a9f1085aa06e17e2e87>, <Future: status: pending, key: main-56bc9ef3426adb18d5f39cee3ed91d19>, <Future: status: pending, key: main-6e04c55654b10296d888be3994e36b56>, <Future: status: pending, key: main-5aa7985f3a2297205f9258b1c1d6c8b3>, <Future: status: pending, key: main-5b32e8bb7be05d8debb526d5a802e870>, <Future: status: pending, key: main-8bc16dcbd4465e83ffce811eb368ef68>, <Future: status: pending, key: main-0e4de881af7af496ad843a75daa5718f>, <Future: status: pending, key: main-6bc8613311e8d789837c7c41eb800e1b>, <Future: status: pending, key: main-7ef001a0de4f6d870d12a4f5cc7a589b>, <Future: status: pending, key: main-a41e20297d83bf4f69bb8e3a49c65027>, <Future: status: pending, key: main-9ecb5bbc3d511b3d8c9fd7c77d14ee04>]\n",
      "sorted by current temp [{'current_humidity': 52, 'forecast_humidity': [83, 72, 80, 84, 88, 99, 100, 99, 98, 99, 97, 99, 98, 95, 84, 97, 91, 94, 96, 98, 94, 92, 85, 77, 76, 80, 92, 92, 92, 90, 85, 78, 72, 78, 87, 89, 91], 'current_temp': 34.59, 'forecast_temps': [32.16, 30.5, 28.26, 26.88, 25.88, 24.15, 24.82, 24.72, 24.47, 23.85, 24.17, 24.2, 23.78, 24.78, 28.84, 26.69, 27.3, 24.73, 23.78, 23.42, 23.86, 25.28, 29.83, 30.26, 29.73, 27.92, 25.62, 24.9, 23.96, 24.98, 31.04, 32.53, 32.07, 28.26, 25.58, 24.34, 24.04], 'mean_hum': 89.219999999999999, 'search_city': 'Bangkok,TH', 'api_city': 'Bangkok,TH', 'mean_temp': 26.530000000000001}, {'current_humidity': 26, 'forecast_humidity': [29, 25, 24, 32, 38, 45, 53, 37, 31, 25, 23, 31, 35, 41, 46, 37, 32, 25, 24, 49, 43, 43, 64, 35, 32, 27, 25, 52, 56, 59, 59, 31, 31, 26, 28, 50, 58], 'current_temp': 34, 'forecast_temps': [38.75, 39.21, 35.75, 29.4, 26.73, 26.25, 25.12, 32.57, 36.82, 37.4, 33.87, 28, 26.63, 25.53, 24.24, 32.44, 36.95, 37.43, 33.83, 25.47, 23.11, 21.88, 19.88, 32.26, 37.38, 38.42, 34.57, 25.9, 22.91, 21.38, 20.69, 34.43, 38.12, 39.26, 34.73, 26.34, 23.39], 'mean_hum': 37.859999999999999, 'search_city': 'Baghdad,IQ', 'api_city': 'Baghdad,IQ', 'mean_temp': 30.460000000000001}, {'current_humidity': 59, 'forecast_humidity': [78, 83, 100, 100, 100, 100, 100, 95, 91, 95, 99, 98, 97, 95, 89, 81, 75, 81, 91, 94, 94, 95, 81, 76, 75, 79, 92, 100, 100, 100, 100, 90, 93, 94, 100, 100, 100, 100], 'current_temp': 32.78, 'forecast_temps': [33.46, 31.63, 25.93, 25.89, 25.53, 25.71, 28.04, 29.75, 29.76, 28.4, 27.67, 27.67, 27.36, 27.57, 29.89, 31, 31.17, 29.16, 27.27, 26.47, 26.21, 26.38, 30.48, 32.01, 31.43, 29.97, 27.52, 25, 23.61, 24.08, 26.84, 29.68, 28.17, 27.41, 26.18, 25.74, 23.24, 24.11], 'mean_hum': 92.390000000000001, 'search_city': 'KualaLumpur,MY', 'api_city': 'Kuala Lumpur,MY', 'mean_temp': 27.829999999999998}, {'current_humidity': 51, 'forecast_humidity': [87, 84, 87, 92, 90, 94, 96, 88, 84, 84, 86, 88, 89, 89, 88, 84, 81, 80, 82, 89, 94, 96, 97, 91, 87, 85, 87, 96, 97, 98, 99, 94, 87, 82, 84, 90, 94, 96], 'current_temp': 27.33, 'forecast_temps': [27.54, 27.37, 26.52, 25.88, 25.78, 25.01, 25.19, 26.55, 27.02, 26.71, 26.04, 25.49, 25.23, 24.95, 24.77, 25.48, 26.01, 26, 25.12, 24.07, 23.56, 23.23, 22.98, 24.21, 24.98, 25.07, 24.42, 23.3, 22.81, 22.48, 22.24, 23.78, 24.67, 25.01, 24.48, 23.44, 22.94, 22.61], 'mean_hum': 89.370000000000005, 'search_city': 'Istanbul,TR', 'api_city': 'Istanbul,TR', 'mean_temp': 24.809999999999999}, {'current_humidity': 69, 'forecast_humidity': [53, 68, 80, 84, 88, 72, 55, 50, 46, 61, 77, 92, 94, 63, 50, 44, 40, 60, 56, 68, 86, 63, 49, 46, 45, 54, 85, 97, 98, 73, 54, 47, 47, 63, 82, 89, 92, 67], 'current_temp': 27.03, 'forecast_temps': [26.1, 23.68, 22.58, 22.1, 21.75, 24.98, 28.67, 30.23, 29.85, 24.69, 22.07, 20.08, 19.17, 26.99, 32.11, 33.42, 32.26, 28.9, 27.77, 25.57, 23.46, 27.28, 30.98, 32.46, 31.43, 26.87, 23.67, 22.45, 22.31, 26.93, 31.49, 31.88, 30.12, 25.91, 23.18, 21.99, 21.74, 27.61], 'mean_hum': 66.790000000000006, 'search_city': 'Shanghai,CN', 'api_city': 'Shanghai,CN', 'mean_temp': 26.440000000000001}, {'current_humidity': 31, 'forecast_humidity': [26, 23, 21, 23, 31, 32, 54, 66, 26, 22, 20, 19, 26, 51, 62, 67, 27, 23, 19, 17, 30, 54, 67, 70, 36, 28, 25, 25, 37, 56, 60, 60, 23, 22, 21, 24, 45, 69], 'current_temp': 25.12, 'forecast_temps': [33.49, 39.46, 41.05, 38.16, 29, 25.62, 21.85, 19.65, 32.06, 37.64, 39.16, 35.81, 29.34, 23.35, 19.81, 17.76, 29.34, 34.42, 34.33, 30.57, 22.96, 19.23, 16.83, 16.51, 25.48, 31.22, 32.77, 30.65, 22.56, 18.13, 16.14, 14.88, 27.17, 32.06, 32.98, 30.09, 21.79, 18.06], 'mean_hum': 37.030000000000001, 'search_city': 'Madrid,ES', 'api_city': 'Madrid,ES', 'mean_temp': 27.399999999999999}, {'current_humidity': 78, 'forecast_humidity': [86, 88, 76, 70, 79, 73, 77, 79, 81, 82, 79, 71, 67, 75, 87, 95, 100, 97, 95, 90, 87, 92, 100, 100, 100, 100, 99, 87, 94, 100, 100, 100, 100, 100, 100, 100, 100], 'current_temp': 24.74, 'forecast_temps': [24.48, 24.2, 26.54, 28.4, 26.18, 27.25, 26.42, 25.92, 25.52, 25.35, 26.42, 28.3, 28.88, 27.63, 24.69, 23.04, 22.25, 22.73, 23.38, 24.32, 24.61, 22.88, 21.23, 19.91, 19.23, 19.12, 21.77, 24.05, 22.41, 21.77, 21.29, 21.78, 19.52, 16.16, 16.83, 19.14, 20.34], 'mean_hum': 89.349999999999994, 'search_city': 'Chicago,IL', 'api_city': 'Chicago,US', 'mean_temp': 23.350000000000001}, {'current_humidity': 60, 'forecast_humidity': [67, 71, 65, 71, 85, 83, 83, 87, 94, 89, 73, 74, 72, 73, 85, 96, 96, 90, 76, 67, 64, 62, 64, 63, 63, 63, 58, 50, 43, 44, 59, 73, 89, 80, 54, 52, 45], 'current_temp': 23.01, 'forecast_temps': [23.14, 23.56, 26.1, 25.55, 23.23, 23.4, 23.17, 22.62, 21.67, 22.35, 26.22, 26.15, 26.38, 25.63, 23.24, 20.89, 20.25, 22.83, 25.88, 28.92, 29.66, 28.83, 27.78, 27.46, 26.78, 26.87, 30.37, 31.95, 32.01, 29.27, 24.74, 21.63, 20.02, 22.41, 28.58, 32.04, 33.44], 'mean_hum': 70.890000000000001, 'search_city': 'NewYork,NY', 'api_city': 'New York,US', 'mean_temp': 25.809999999999999}, {'current_humidity': 56, 'forecast_humidity': [47, 40, 40, 47, 54, 60, 72, 63, 46, 42, 41, 48, 66, 77, 92, 84, 52, 44, 41, 51, 83, 85, 89, 77, 53, 47, 76, 85, 90, 94, 92, 84, 63, 52, 78, 81, 88], 'current_temp': 22.49, 'forecast_temps': [26.89, 27.29, 24.92, 21.71, 19.58, 18.95, 18.17, 20.82, 26.67, 28.4, 27.47, 24.5, 20.38, 18.33, 15.69, 17.34, 25.85, 28.53, 27.98, 24.67, 19.16, 16.98, 15.68, 17.81, 25.98, 28.57, 23.87, 21.55, 17.96, 16.98, 15.64, 17.98, 25.87, 29.01, 24.83, 22.04, 19.09], 'mean_hum': 65.510000000000005, 'search_city': 'Rome,IT', 'api_city': 'Trevi,IT', 'mean_temp': 22.25}, {'current_humidity': 88, 'forecast_humidity': [82, 78, 73, 69, 82, 89, 100, 97, 78, 72, 62, 60, 68, 75, 64, 75, 60, 52, 54, 52, 65, 72, 87, 95, 88, 71, 62, 59, 74, 81, 84, 86, 82, 73, 70, 94, 100], 'current_temp': 20.09, 'forecast_temps': [22.81, 24.98, 25.58, 24.04, 19.58, 17.35, 14.92, 13.12, 20.67, 25.15, 26.97, 25.5, 21.03, 18.68, 17.54, 15.69, 22.65, 26.03, 26.18, 21.57, 18.31, 16.73, 15.73, 16.36, 18.28, 19.97, 21.52, 19.3, 17.01, 16.43, 17.29, 17.88, 19.27, 20.66, 20.73, 17.84, 16.39], 'mean_hum': 75.269999999999996, 'search_city': 'London,UK', 'api_city': 'London,GB', 'mean_temp': 19.989999999999998}, {'current_humidity': 93, 'forecast_humidity': [98, 95, 94, 93, 99, 100, 100, 99, 100, 92, 86, 84, 86, 87, 78, 84, 93, 85, 80, 77, 80, 80, 81, 82, 85, 85, 82, 78, 87, 89, 97, 100, 100, 100, 100, 100, 100, 99], 'current_temp': 19.1, 'forecast_temps': [18.99, 19.98, 19.93, 19.5, 18.5, 18.04, 17.53, 16.74, 18.32, 21.21, 23.2, 22.7, 20.25, 18.62, 17.9, 16.46, 18.05, 18.74, 17.61, 16.47, 16.11, 15.93, 15.33, 15.41, 15.93, 16.97, 17.67, 17.15, 17.06, 17.33, 16.89, 16.03, 15.02, 14.16, 13.98, 13.89, 11.54, 11.06], 'mean_hum': 90.390000000000001, 'search_city': 'Cardiff,UK', 'api_city': 'Cardiff,GB', 'mean_temp': 17.27}, {'current_humidity': 68, 'forecast_humidity': [65, 55, 56, 72, 85, 85, 84, 78, 60, 52, 53, 82, 81, 84, 83, 75, 56, 46, 47, 60, 84, 85, 93, 69, 43, 36, 37, 51, 86, 93, 90, 82, 50, 42, 42, 57, 78], 'current_temp': 17.91, 'forecast_temps': [21.73, 24.03, 20.99, 16.22, 11.48, 8.75, 8.47, 14.62, 20.52, 23.05, 20.67, 14.75, 11.68, 9.03, 8.59, 16.04, 21.85, 24.23, 21.68, 17.87, 12.46, 9.13, 9.48, 16.61, 22.53, 24.17, 21.17, 15.95, 12.16, 11.58, 11.09, 16.43, 22.52, 24.21, 21.68, 18.59, 14.69], 'mean_hum': 66.950000000000003, 'search_city': 'Nairobi,KE', 'api_city': 'Nairobi,KE', 'mean_temp': 16.780000000000001}, {'current_humidity': 82, 'forecast_humidity': [90, 89, 85, 56, 49, 47, 68, 91, 87, 84, 68, 46, 39, 37, 63, 80, 81, 82, 73, 46, 41, 39, 60, 86, 90, 88, 80, 47, 42, 40, 57, 77, 79, 82, 70, 44, 43, 40], 'current_temp': 16.77, 'forecast_temps': [15.02, 13.67, 16.34, 26.17, 29.88, 29.58, 22.94, 16.97, 14.51, 13.27, 17.27, 28.74, 31.64, 30.58, 22.63, 16.9, 14.3, 12.61, 15.75, 26.62, 28.71, 27.28, 20.58, 14.96, 12.83, 11.27, 14.52, 24.95, 28.06, 27.33, 20.39, 15.43, 13.82, 12.66, 16.23, 27.44, 30.29, 29.46], 'mean_hum': 64.890000000000001, 'search_city': 'LosAngeles,CA', 'api_city': 'Los Angeles,US', 'mean_temp': 20.829999999999998}, {'current_humidity': 87, 'forecast_humidity': [92, 90, 81, 88, 84, 91, 83, 82, 88, 78, 69, 79, 82, 80, 77, 78, 78, 76, 70, 75, 82, 83, 80, 82, 77, 69, 64, 68, 67, 87, 87, 88, 81, 75, 65, 68, 71, 83], 'current_temp': 15.25, 'forecast_temps': [20.66, 22.92, 23.64, 18.98, 15, 13.91, 11.27, 13.8, 21.55, 23.61, 24.22, 18.84, 13.56, 11.05, 9.5, 11.83, 21.99, 24.85, 25.74, 21.22, 18.71, 15.03, 13.63, 15.71, 24.28, 26.67, 25.92, 22.15, 19.91, 14.48, 12.29, 14.38, 22.02, 24.01, 24.78, 20.24, 17.49, 14.86], 'mean_hum': 78.890000000000001, 'search_city': 'Berlin,DE', 'api_city': 'Berlin,DE', 'mean_temp': 18.809999999999999}, {'current_humidity': 72, 'forecast_humidity': [100, 100, 92, 67, 53, 56, 89, 88, 91, 88, 77, 62, 81, 86, 96, 97, 100, 100, 90, 87, 72, 68, 98, 100, 100, 100, 77, 63, 94, 100, 100, 96, 96, 96, 94, 66, 87, 74], 'current_temp': 14.47, 'forecast_temps': [14.3, 13.15, 17.18, 22.26, 23.43, 20.93, 13.14, 11.38, 13.12, 11.63, 17.54, 21.71, 19.52, 16.66, 13.26, 11.44, 10.04, 10.25, 15.3, 18.07, 19.36, 16.88, 9.73, 8.21, 7.98, 6.67, 14.32, 20.05, 16.06, 13.43, 9.89, 8.13, 9.07, 8.86, 13.28, 20.44, 17.19, 17.41], 'mean_hum': 86.340000000000003, 'search_city': 'MexicoCity,MX', 'api_city': 'Mexico City,MX', 'mean_temp': 14.51}, {'current_humidity': 76, 'forecast_humidity': [100, 100, 100, 100, 100, 96, 94, 97, 98, 99, 98, 100, 100, 100, 100, 100, 100, 100, 100, 100, 100, 95, 89, 92, 98, 100, 100, 100, 100, 97, 95, 95, 100, 100, 100, 100, 100], 'current_temp': 12.28, 'forecast_temps': [11.77, 11.18, 10.86, 11.41, 12.58, 13.6, 13.97, 13.52, 12.62, 12.35, 12.02, 9.5, 10.63, 10.63, 11.24, 10.59, 10.25, 9.93, 9.78, 9.87, 11.16, 12.63, 13.58, 12.86, 11.78, 10.92, 10.52, 10.05, 11.41, 13.02, 13.19, 12.73, 11.87, 11.26, 10.48, 10.04, 12.74], 'mean_hum': 98.459999999999994, 'search_city': 'Auckland,NZ', 'api_city': 'Auckland,NZ', 'mean_temp': 11.58}, {'current_humidity': 87, 'forecast_humidity': [81, 89, 81, 74, 69, 74, 73, 72, 71, 71, 71, 70, 89, 93, 93, 91, 89, 100, 95, 87, 85, 86, 86, 85, 83, 84, 82, 79, 78, 84, 83, 83, 82, 80, 81, 78, 78], 'current_temp': 5.76, 'forecast_temps': [5.35, 5.52, 7.75, 8.55, 9.43, 8.6, 8.92, 8.87, 8.87, 8.9, 9.67, 10.55, 8.38, 6.93, 5.69, 5.49, 5.85, 4.43, 3.88, 4.22, 3.91, 3.78, 3.83, 4.26, 4.93, 5.07, 5.52, 6.15, 6.06, 4.98, 5.14, 5.43, 5.62, 5.91, 6.78, 7.24, 6.99], 'mean_hum': 81.890000000000001, 'search_city': 'Primavera,CL', 'api_city': 'Porvenir,CL', 'mean_temp': 6.4199999999999999}, {'current_humidity': 100, 'forecast_humidity': [96, 84, 50, 40, 48, 76, 94, 91, 95, 90, 44, 33, 38, 65, 88, 93, 95, 84, 51, 41, 49, 70, 88, 95, 93, 79, 45, 45, 50, 72, 86, 93, 92, 85, 44, 39, 48, 65], 'current_temp': -1.25, 'forecast_temps': [1.4, 3.91, 13.4, 16.35, 14.03, 8.65, 6.52, 4.97, 3.27, 4.9, 14.67, 17.6, 15.63, 9.48, 5.34, 4.19, 3.5, 5.23, 14.33, 16.47, 13.71, 8.53, 4.43, 3.06, 1.78, 4.67, 13.37, 15.25, 13.31, 8.77, 4.94, 3.63, 2.67, 4.66, 14.33, 15.54, 13.19, 9.41], 'mean_hum': 69.319999999999993, 'search_city': 'MachuPicchu,PE', 'api_city': 'Ollantaytambo,PE', 'mean_temp': 8.9199999999999999}]\n",
      "sorted by forecast temp [{'current_humidity': 26, 'forecast_humidity': [29, 25, 24, 32, 38, 45, 53, 37, 31, 25, 23, 31, 35, 41, 46, 37, 32, 25, 24, 49, 43, 43, 64, 35, 32, 27, 25, 52, 56, 59, 59, 31, 31, 26, 28, 50, 58], 'current_temp': 34, 'forecast_temps': [38.75, 39.21, 35.75, 29.4, 26.73, 26.25, 25.12, 32.57, 36.82, 37.4, 33.87, 28, 26.63, 25.53, 24.24, 32.44, 36.95, 37.43, 33.83, 25.47, 23.11, 21.88, 19.88, 32.26, 37.38, 38.42, 34.57, 25.9, 22.91, 21.38, 20.69, 34.43, 38.12, 39.26, 34.73, 26.34, 23.39], 'mean_hum': 37.859999999999999, 'search_city': 'Baghdad,IQ', 'api_city': 'Baghdad,IQ', 'mean_temp': 30.460000000000001}, {'current_humidity': 59, 'forecast_humidity': [78, 83, 100, 100, 100, 100, 100, 95, 91, 95, 99, 98, 97, 95, 89, 81, 75, 81, 91, 94, 94, 95, 81, 76, 75, 79, 92, 100, 100, 100, 100, 90, 93, 94, 100, 100, 100, 100], 'current_temp': 32.78, 'forecast_temps': [33.46, 31.63, 25.93, 25.89, 25.53, 25.71, 28.04, 29.75, 29.76, 28.4, 27.67, 27.67, 27.36, 27.57, 29.89, 31, 31.17, 29.16, 27.27, 26.47, 26.21, 26.38, 30.48, 32.01, 31.43, 29.97, 27.52, 25, 23.61, 24.08, 26.84, 29.68, 28.17, 27.41, 26.18, 25.74, 23.24, 24.11], 'mean_hum': 92.390000000000001, 'search_city': 'KualaLumpur,MY', 'api_city': 'Kuala Lumpur,MY', 'mean_temp': 27.829999999999998}, {'current_humidity': 31, 'forecast_humidity': [26, 23, 21, 23, 31, 32, 54, 66, 26, 22, 20, 19, 26, 51, 62, 67, 27, 23, 19, 17, 30, 54, 67, 70, 36, 28, 25, 25, 37, 56, 60, 60, 23, 22, 21, 24, 45, 69], 'current_temp': 25.12, 'forecast_temps': [33.49, 39.46, 41.05, 38.16, 29, 25.62, 21.85, 19.65, 32.06, 37.64, 39.16, 35.81, 29.34, 23.35, 19.81, 17.76, 29.34, 34.42, 34.33, 30.57, 22.96, 19.23, 16.83, 16.51, 25.48, 31.22, 32.77, 30.65, 22.56, 18.13, 16.14, 14.88, 27.17, 32.06, 32.98, 30.09, 21.79, 18.06], 'mean_hum': 37.030000000000001, 'search_city': 'Madrid,ES', 'api_city': 'Madrid,ES', 'mean_temp': 27.399999999999999}, {'current_humidity': 52, 'forecast_humidity': [83, 72, 80, 84, 88, 99, 100, 99, 98, 99, 97, 99, 98, 95, 84, 97, 91, 94, 96, 98, 94, 92, 85, 77, 76, 80, 92, 92, 92, 90, 85, 78, 72, 78, 87, 89, 91], 'current_temp': 34.59, 'forecast_temps': [32.16, 30.5, 28.26, 26.88, 25.88, 24.15, 24.82, 24.72, 24.47, 23.85, 24.17, 24.2, 23.78, 24.78, 28.84, 26.69, 27.3, 24.73, 23.78, 23.42, 23.86, 25.28, 29.83, 30.26, 29.73, 27.92, 25.62, 24.9, 23.96, 24.98, 31.04, 32.53, 32.07, 28.26, 25.58, 24.34, 24.04], 'mean_hum': 89.219999999999999, 'search_city': 'Bangkok,TH', 'api_city': 'Bangkok,TH', 'mean_temp': 26.530000000000001}, {'current_humidity': 69, 'forecast_humidity': [53, 68, 80, 84, 88, 72, 55, 50, 46, 61, 77, 92, 94, 63, 50, 44, 40, 60, 56, 68, 86, 63, 49, 46, 45, 54, 85, 97, 98, 73, 54, 47, 47, 63, 82, 89, 92, 67], 'current_temp': 27.03, 'forecast_temps': [26.1, 23.68, 22.58, 22.1, 21.75, 24.98, 28.67, 30.23, 29.85, 24.69, 22.07, 20.08, 19.17, 26.99, 32.11, 33.42, 32.26, 28.9, 27.77, 25.57, 23.46, 27.28, 30.98, 32.46, 31.43, 26.87, 23.67, 22.45, 22.31, 26.93, 31.49, 31.88, 30.12, 25.91, 23.18, 21.99, 21.74, 27.61], 'mean_hum': 66.790000000000006, 'search_city': 'Shanghai,CN', 'api_city': 'Shanghai,CN', 'mean_temp': 26.440000000000001}, {'current_humidity': 60, 'forecast_humidity': [67, 71, 65, 71, 85, 83, 83, 87, 94, 89, 73, 74, 72, 73, 85, 96, 96, 90, 76, 67, 64, 62, 64, 63, 63, 63, 58, 50, 43, 44, 59, 73, 89, 80, 54, 52, 45], 'current_temp': 23.01, 'forecast_temps': [23.14, 23.56, 26.1, 25.55, 23.23, 23.4, 23.17, 22.62, 21.67, 22.35, 26.22, 26.15, 26.38, 25.63, 23.24, 20.89, 20.25, 22.83, 25.88, 28.92, 29.66, 28.83, 27.78, 27.46, 26.78, 26.87, 30.37, 31.95, 32.01, 29.27, 24.74, 21.63, 20.02, 22.41, 28.58, 32.04, 33.44], 'mean_hum': 70.890000000000001, 'search_city': 'NewYork,NY', 'api_city': 'New York,US', 'mean_temp': 25.809999999999999}, {'current_humidity': 51, 'forecast_humidity': [87, 84, 87, 92, 90, 94, 96, 88, 84, 84, 86, 88, 89, 89, 88, 84, 81, 80, 82, 89, 94, 96, 97, 91, 87, 85, 87, 96, 97, 98, 99, 94, 87, 82, 84, 90, 94, 96], 'current_temp': 27.33, 'forecast_temps': [27.54, 27.37, 26.52, 25.88, 25.78, 25.01, 25.19, 26.55, 27.02, 26.71, 26.04, 25.49, 25.23, 24.95, 24.77, 25.48, 26.01, 26, 25.12, 24.07, 23.56, 23.23, 22.98, 24.21, 24.98, 25.07, 24.42, 23.3, 22.81, 22.48, 22.24, 23.78, 24.67, 25.01, 24.48, 23.44, 22.94, 22.61], 'mean_hum': 89.370000000000005, 'search_city': 'Istanbul,TR', 'api_city': 'Istanbul,TR', 'mean_temp': 24.809999999999999}, {'current_humidity': 78, 'forecast_humidity': [86, 88, 76, 70, 79, 73, 77, 79, 81, 82, 79, 71, 67, 75, 87, 95, 100, 97, 95, 90, 87, 92, 100, 100, 100, 100, 99, 87, 94, 100, 100, 100, 100, 100, 100, 100, 100], 'current_temp': 24.74, 'forecast_temps': [24.48, 24.2, 26.54, 28.4, 26.18, 27.25, 26.42, 25.92, 25.52, 25.35, 26.42, 28.3, 28.88, 27.63, 24.69, 23.04, 22.25, 22.73, 23.38, 24.32, 24.61, 22.88, 21.23, 19.91, 19.23, 19.12, 21.77, 24.05, 22.41, 21.77, 21.29, 21.78, 19.52, 16.16, 16.83, 19.14, 20.34], 'mean_hum': 89.349999999999994, 'search_city': 'Chicago,IL', 'api_city': 'Chicago,US', 'mean_temp': 23.350000000000001}, {'current_humidity': 56, 'forecast_humidity': [47, 40, 40, 47, 54, 60, 72, 63, 46, 42, 41, 48, 66, 77, 92, 84, 52, 44, 41, 51, 83, 85, 89, 77, 53, 47, 76, 85, 90, 94, 92, 84, 63, 52, 78, 81, 88], 'current_temp': 22.49, 'forecast_temps': [26.89, 27.29, 24.92, 21.71, 19.58, 18.95, 18.17, 20.82, 26.67, 28.4, 27.47, 24.5, 20.38, 18.33, 15.69, 17.34, 25.85, 28.53, 27.98, 24.67, 19.16, 16.98, 15.68, 17.81, 25.98, 28.57, 23.87, 21.55, 17.96, 16.98, 15.64, 17.98, 25.87, 29.01, 24.83, 22.04, 19.09], 'mean_hum': 65.510000000000005, 'search_city': 'Rome,IT', 'api_city': 'Trevi,IT', 'mean_temp': 22.25}, {'current_humidity': 82, 'forecast_humidity': [90, 89, 85, 56, 49, 47, 68, 91, 87, 84, 68, 46, 39, 37, 63, 80, 81, 82, 73, 46, 41, 39, 60, 86, 90, 88, 80, 47, 42, 40, 57, 77, 79, 82, 70, 44, 43, 40], 'current_temp': 16.77, 'forecast_temps': [15.02, 13.67, 16.34, 26.17, 29.88, 29.58, 22.94, 16.97, 14.51, 13.27, 17.27, 28.74, 31.64, 30.58, 22.63, 16.9, 14.3, 12.61, 15.75, 26.62, 28.71, 27.28, 20.58, 14.96, 12.83, 11.27, 14.52, 24.95, 28.06, 27.33, 20.39, 15.43, 13.82, 12.66, 16.23, 27.44, 30.29, 29.46], 'mean_hum': 64.890000000000001, 'search_city': 'LosAngeles,CA', 'api_city': 'Los Angeles,US', 'mean_temp': 20.829999999999998}, {'current_humidity': 88, 'forecast_humidity': [82, 78, 73, 69, 82, 89, 100, 97, 78, 72, 62, 60, 68, 75, 64, 75, 60, 52, 54, 52, 65, 72, 87, 95, 88, 71, 62, 59, 74, 81, 84, 86, 82, 73, 70, 94, 100], 'current_temp': 20.09, 'forecast_temps': [22.81, 24.98, 25.58, 24.04, 19.58, 17.35, 14.92, 13.12, 20.67, 25.15, 26.97, 25.5, 21.03, 18.68, 17.54, 15.69, 22.65, 26.03, 26.18, 21.57, 18.31, 16.73, 15.73, 16.36, 18.28, 19.97, 21.52, 19.3, 17.01, 16.43, 17.29, 17.88, 19.27, 20.66, 20.73, 17.84, 16.39], 'mean_hum': 75.269999999999996, 'search_city': 'London,UK', 'api_city': 'London,GB', 'mean_temp': 19.989999999999998}, {'current_humidity': 87, 'forecast_humidity': [92, 90, 81, 88, 84, 91, 83, 82, 88, 78, 69, 79, 82, 80, 77, 78, 78, 76, 70, 75, 82, 83, 80, 82, 77, 69, 64, 68, 67, 87, 87, 88, 81, 75, 65, 68, 71, 83], 'current_temp': 15.25, 'forecast_temps': [20.66, 22.92, 23.64, 18.98, 15, 13.91, 11.27, 13.8, 21.55, 23.61, 24.22, 18.84, 13.56, 11.05, 9.5, 11.83, 21.99, 24.85, 25.74, 21.22, 18.71, 15.03, 13.63, 15.71, 24.28, 26.67, 25.92, 22.15, 19.91, 14.48, 12.29, 14.38, 22.02, 24.01, 24.78, 20.24, 17.49, 14.86], 'mean_hum': 78.890000000000001, 'search_city': 'Berlin,DE', 'api_city': 'Berlin,DE', 'mean_temp': 18.809999999999999}, {'current_humidity': 93, 'forecast_humidity': [98, 95, 94, 93, 99, 100, 100, 99, 100, 92, 86, 84, 86, 87, 78, 84, 93, 85, 80, 77, 80, 80, 81, 82, 85, 85, 82, 78, 87, 89, 97, 100, 100, 100, 100, 100, 100, 99], 'current_temp': 19.1, 'forecast_temps': [18.99, 19.98, 19.93, 19.5, 18.5, 18.04, 17.53, 16.74, 18.32, 21.21, 23.2, 22.7, 20.25, 18.62, 17.9, 16.46, 18.05, 18.74, 17.61, 16.47, 16.11, 15.93, 15.33, 15.41, 15.93, 16.97, 17.67, 17.15, 17.06, 17.33, 16.89, 16.03, 15.02, 14.16, 13.98, 13.89, 11.54, 11.06], 'mean_hum': 90.390000000000001, 'search_city': 'Cardiff,UK', 'api_city': 'Cardiff,GB', 'mean_temp': 17.27}, {'current_humidity': 68, 'forecast_humidity': [65, 55, 56, 72, 85, 85, 84, 78, 60, 52, 53, 82, 81, 84, 83, 75, 56, 46, 47, 60, 84, 85, 93, 69, 43, 36, 37, 51, 86, 93, 90, 82, 50, 42, 42, 57, 78], 'current_temp': 17.91, 'forecast_temps': [21.73, 24.03, 20.99, 16.22, 11.48, 8.75, 8.47, 14.62, 20.52, 23.05, 20.67, 14.75, 11.68, 9.03, 8.59, 16.04, 21.85, 24.23, 21.68, 17.87, 12.46, 9.13, 9.48, 16.61, 22.53, 24.17, 21.17, 15.95, 12.16, 11.58, 11.09, 16.43, 22.52, 24.21, 21.68, 18.59, 14.69], 'mean_hum': 66.950000000000003, 'search_city': 'Nairobi,KE', 'api_city': 'Nairobi,KE', 'mean_temp': 16.780000000000001}, {'current_humidity': 72, 'forecast_humidity': [100, 100, 92, 67, 53, 56, 89, 88, 91, 88, 77, 62, 81, 86, 96, 97, 100, 100, 90, 87, 72, 68, 98, 100, 100, 100, 77, 63, 94, 100, 100, 96, 96, 96, 94, 66, 87, 74], 'current_temp': 14.47, 'forecast_temps': [14.3, 13.15, 17.18, 22.26, 23.43, 20.93, 13.14, 11.38, 13.12, 11.63, 17.54, 21.71, 19.52, 16.66, 13.26, 11.44, 10.04, 10.25, 15.3, 18.07, 19.36, 16.88, 9.73, 8.21, 7.98, 6.67, 14.32, 20.05, 16.06, 13.43, 9.89, 8.13, 9.07, 8.86, 13.28, 20.44, 17.19, 17.41], 'mean_hum': 86.340000000000003, 'search_city': 'MexicoCity,MX', 'api_city': 'Mexico City,MX', 'mean_temp': 14.51}, {'current_humidity': 76, 'forecast_humidity': [100, 100, 100, 100, 100, 96, 94, 97, 98, 99, 98, 100, 100, 100, 100, 100, 100, 100, 100, 100, 100, 95, 89, 92, 98, 100, 100, 100, 100, 97, 95, 95, 100, 100, 100, 100, 100], 'current_temp': 12.28, 'forecast_temps': [11.77, 11.18, 10.86, 11.41, 12.58, 13.6, 13.97, 13.52, 12.62, 12.35, 12.02, 9.5, 10.63, 10.63, 11.24, 10.59, 10.25, 9.93, 9.78, 9.87, 11.16, 12.63, 13.58, 12.86, 11.78, 10.92, 10.52, 10.05, 11.41, 13.02, 13.19, 12.73, 11.87, 11.26, 10.48, 10.04, 12.74], 'mean_hum': 98.459999999999994, 'search_city': 'Auckland,NZ', 'api_city': 'Auckland,NZ', 'mean_temp': 11.58}, {'current_humidity': 100, 'forecast_humidity': [96, 84, 50, 40, 48, 76, 94, 91, 95, 90, 44, 33, 38, 65, 88, 93, 95, 84, 51, 41, 49, 70, 88, 95, 93, 79, 45, 45, 50, 72, 86, 93, 92, 85, 44, 39, 48, 65], 'current_temp': -1.25, 'forecast_temps': [1.4, 3.91, 13.4, 16.35, 14.03, 8.65, 6.52, 4.97, 3.27, 4.9, 14.67, 17.6, 15.63, 9.48, 5.34, 4.19, 3.5, 5.23, 14.33, 16.47, 13.71, 8.53, 4.43, 3.06, 1.78, 4.67, 13.37, 15.25, 13.31, 8.77, 4.94, 3.63, 2.67, 4.66, 14.33, 15.54, 13.19, 9.41], 'mean_hum': 69.319999999999993, 'search_city': 'MachuPicchu,PE', 'api_city': 'Ollantaytambo,PE', 'mean_temp': 8.9199999999999999}, {'current_humidity': 87, 'forecast_humidity': [81, 89, 81, 74, 69, 74, 73, 72, 71, 71, 71, 70, 89, 93, 93, 91, 89, 100, 95, 87, 85, 86, 86, 85, 83, 84, 82, 79, 78, 84, 83, 83, 82, 80, 81, 78, 78], 'current_temp': 5.76, 'forecast_temps': [5.35, 5.52, 7.75, 8.55, 9.43, 8.6, 8.92, 8.87, 8.87, 8.9, 9.67, 10.55, 8.38, 6.93, 5.69, 5.49, 5.85, 4.43, 3.88, 4.22, 3.91, 3.78, 3.83, 4.26, 4.93, 5.07, 5.52, 6.15, 6.06, 4.98, 5.14, 5.43, 5.62, 5.91, 6.78, 7.24, 6.99], 'mean_hum': 81.890000000000001, 'search_city': 'Primavera,CL', 'api_city': 'Porvenir,CL', 'mean_temp': 6.4199999999999999}]\n",
      "CPU times: user 140 ms, sys: 28 ms, total: 168 ms\n",
      "Wall time: 565 ms\n"
     ]
    }
   ],
   "source": [
    "%%time\n",
    "\n",
    "futures = [e.submit(main, i) for i in city_list]\n",
    "print(futures)\n",
    "print('sorted by current temp', \n",
    "      sorted([f.result() for f in futures if f.status != 'error'], \n",
    "             key=lambda x: x['current_temp'], reverse=True))\n",
    "print('sorted by forecast temp', \n",
    "      sorted([f.result() for f in futures if f.status != 'error'], \n",
    "             key=lambda x: x['mean_temp'], reverse=True))"
   ]
  },
  {
   "cell_type": "code",
   "execution_count": 14,
   "metadata": {
    "collapsed": false
   },
   "outputs": [],
   "source": [
    "example_error = futures[-1]"
   ]
  },
  {
   "cell_type": "code",
   "execution_count": 15,
   "metadata": {
    "collapsed": false
   },
   "outputs": [
    {
     "data": {
      "text/plain": [
       "'error'"
      ]
     },
     "execution_count": 15,
     "metadata": {},
     "output_type": "execute_result"
    }
   ],
   "source": [
    "example_error.status"
   ]
  },
  {
   "cell_type": "code",
   "execution_count": 16,
   "metadata": {
    "collapsed": false
   },
   "outputs": [
    {
     "ename": "ValueError",
     "evalue": "Bad Data Returned from API: Somewhere,WL - {'cod': '404', 'message': 'Error: Not found city'}",
     "output_type": "error",
     "traceback": [
      "\u001b[0;31m---------------------------------------------------------------------------\u001b[0m",
      "\u001b[0;31mValueError\u001b[0m                                Traceback (most recent call last)",
      "\u001b[0;32m<ipython-input-16-cdba1d2d5a9a>\u001b[0m in \u001b[0;36m<module>\u001b[0;34m()\u001b[0m\n\u001b[0;32m----> 1\u001b[0;31m \u001b[0mexample_error\u001b[0m\u001b[0;34m.\u001b[0m\u001b[0mresult\u001b[0m\u001b[0;34m(\u001b[0m\u001b[0;34m)\u001b[0m\u001b[0;34m\u001b[0m\u001b[0m\n\u001b[0m",
      "\u001b[0;32m/home/katharine/.virtualenv/data_pipelines/lib/python3.4/site-packages/distributed/executor.py\u001b[0m in \u001b[0;36mresult\u001b[0;34m(self)\u001b[0m\n\u001b[1;32m     96\u001b[0m         \u001b[0mresult\u001b[0m \u001b[0;34m=\u001b[0m \u001b[0msync\u001b[0m\u001b[0;34m(\u001b[0m\u001b[0mself\u001b[0m\u001b[0;34m.\u001b[0m\u001b[0mexecutor\u001b[0m\u001b[0;34m.\u001b[0m\u001b[0mloop\u001b[0m\u001b[0;34m,\u001b[0m \u001b[0mself\u001b[0m\u001b[0;34m.\u001b[0m\u001b[0m_result\u001b[0m\u001b[0;34m,\u001b[0m \u001b[0mraiseit\u001b[0m\u001b[0;34m=\u001b[0m\u001b[0;32mFalse\u001b[0m\u001b[0;34m)\u001b[0m\u001b[0;34m\u001b[0m\u001b[0m\n\u001b[1;32m     97\u001b[0m         \u001b[0;32mif\u001b[0m \u001b[0mself\u001b[0m\u001b[0;34m.\u001b[0m\u001b[0mstatus\u001b[0m \u001b[0;34m==\u001b[0m \u001b[0;34m'error'\u001b[0m\u001b[0;34m:\u001b[0m\u001b[0;34m\u001b[0m\u001b[0m\n\u001b[0;32m---> 98\u001b[0;31m             \u001b[0msix\u001b[0m\u001b[0;34m.\u001b[0m\u001b[0mreraise\u001b[0m\u001b[0;34m(\u001b[0m\u001b[0;34m*\u001b[0m\u001b[0mresult\u001b[0m\u001b[0;34m)\u001b[0m\u001b[0;34m\u001b[0m\u001b[0m\n\u001b[0m\u001b[1;32m     99\u001b[0m         \u001b[0;32mif\u001b[0m \u001b[0mself\u001b[0m\u001b[0;34m.\u001b[0m\u001b[0mstatus\u001b[0m \u001b[0;34m==\u001b[0m \u001b[0;34m'cancelled'\u001b[0m\u001b[0;34m:\u001b[0m\u001b[0;34m\u001b[0m\u001b[0m\n\u001b[1;32m    100\u001b[0m             \u001b[0;32mraise\u001b[0m \u001b[0mresult\u001b[0m\u001b[0;34m\u001b[0m\u001b[0m\n",
      "\u001b[0;32m/home/katharine/.virtualenv/data_pipelines/lib/python3.4/site-packages/six.py\u001b[0m in \u001b[0;36mreraise\u001b[0;34m(tp, value, tb)\u001b[0m\n\u001b[1;32m    683\u001b[0m             \u001b[0mvalue\u001b[0m \u001b[0;34m=\u001b[0m \u001b[0mtp\u001b[0m\u001b[0;34m(\u001b[0m\u001b[0;34m)\u001b[0m\u001b[0;34m\u001b[0m\u001b[0m\n\u001b[1;32m    684\u001b[0m         \u001b[0;32mif\u001b[0m \u001b[0mvalue\u001b[0m\u001b[0;34m.\u001b[0m\u001b[0m__traceback__\u001b[0m \u001b[0;32mis\u001b[0m \u001b[0;32mnot\u001b[0m \u001b[0mtb\u001b[0m\u001b[0;34m:\u001b[0m\u001b[0;34m\u001b[0m\u001b[0m\n\u001b[0;32m--> 685\u001b[0;31m             \u001b[0;32mraise\u001b[0m \u001b[0mvalue\u001b[0m\u001b[0;34m.\u001b[0m\u001b[0mwith_traceback\u001b[0m\u001b[0;34m(\u001b[0m\u001b[0mtb\u001b[0m\u001b[0;34m)\u001b[0m\u001b[0;34m\u001b[0m\u001b[0m\n\u001b[0m\u001b[1;32m    686\u001b[0m         \u001b[0;32mraise\u001b[0m \u001b[0mvalue\u001b[0m\u001b[0;34m\u001b[0m\u001b[0m\n\u001b[1;32m    687\u001b[0m \u001b[0;34m\u001b[0m\u001b[0m\n",
      "\u001b[0;32m<ipython-input-6-dcfca889b64d>\u001b[0m in \u001b[0;36mmain\u001b[0;34m()\u001b[0m\n\u001b[1;32m      8\u001b[0m     \u001b[0mconfig\u001b[0m \u001b[0;34m=\u001b[0m \u001b[0mget_config\u001b[0m\u001b[0;34m(\u001b[0m\u001b[0;34m)\u001b[0m\u001b[0;34m\u001b[0m\u001b[0m\n\u001b[1;32m      9\u001b[0m     \u001b[0mcity_str\u001b[0m\u001b[0;34m,\u001b[0m \u001b[0mweather_data\u001b[0m \u001b[0;34m=\u001b[0m \u001b[0mget_current\u001b[0m\u001b[0;34m(\u001b[0m\u001b[0mcity\u001b[0m\u001b[0;34m,\u001b[0m \u001b[0mconfig\u001b[0m\u001b[0;34m)\u001b[0m\u001b[0;34m\u001b[0m\u001b[0m\n\u001b[0;32m---> 10\u001b[0;31m     \u001b[0mlatest\u001b[0m \u001b[0;34m=\u001b[0m \u001b[0mfilter_temp\u001b[0m\u001b[0;34m(\u001b[0m\u001b[0mcity_str\u001b[0m\u001b[0;34m,\u001b[0m \u001b[0mweather_data\u001b[0m\u001b[0;34m)\u001b[0m\u001b[0;34m\u001b[0m\u001b[0m\n\u001b[0m\u001b[1;32m     11\u001b[0m     \u001b[0mcity_str\u001b[0m\u001b[0;34m,\u001b[0m \u001b[0mweather_data\u001b[0m \u001b[0;34m=\u001b[0m \u001b[0mget_forecast\u001b[0m\u001b[0;34m(\u001b[0m\u001b[0mcity\u001b[0m\u001b[0;34m,\u001b[0m \u001b[0mconfig\u001b[0m\u001b[0;34m)\u001b[0m\u001b[0;34m\u001b[0m\u001b[0m\n\u001b[1;32m     12\u001b[0m     \u001b[0mforecast\u001b[0m \u001b[0;34m=\u001b[0m \u001b[0mfilter_temp\u001b[0m\u001b[0;34m(\u001b[0m\u001b[0mcity_str\u001b[0m\u001b[0;34m,\u001b[0m \u001b[0mweather_data\u001b[0m\u001b[0;34m)\u001b[0m\u001b[0;34m\u001b[0m\u001b[0m\n",
      "\u001b[0;32m<ipython-input-4-c9946656cc7b>\u001b[0m in \u001b[0;36mfilter_temp\u001b[0;34m()\u001b[0m\n\u001b[1;32m      9\u001b[0m     \u001b[0;32mif\u001b[0m \u001b[0;34m'cod'\u001b[0m \u001b[0;32min\u001b[0m \u001b[0mweather_json\u001b[0m\u001b[0;34m.\u001b[0m\u001b[0mkeys\u001b[0m\u001b[0;34m(\u001b[0m\u001b[0;34m)\u001b[0m \u001b[0;32mand\u001b[0m \u001b[0mint\u001b[0m\u001b[0;34m(\u001b[0m\u001b[0mweather_json\u001b[0m\u001b[0;34m[\u001b[0m\u001b[0;34m'cod'\u001b[0m\u001b[0;34m]\u001b[0m\u001b[0;34m)\u001b[0m \u001b[0;34m!=\u001b[0m \u001b[0;36m200\u001b[0m\u001b[0;34m:\u001b[0m\u001b[0;34m\u001b[0m\u001b[0m\n\u001b[1;32m     10\u001b[0m         raise ValueError('Bad Data Returned from API: {} - {}'.format(\n\u001b[0;32m---> 11\u001b[0;31m                 location_str, weather_json))\n\u001b[0m\u001b[1;32m     12\u001b[0m     \u001b[0;32mtry\u001b[0m\u001b[0;34m:\u001b[0m\u001b[0;34m\u001b[0m\u001b[0m\n\u001b[1;32m     13\u001b[0m         \u001b[0mapi_city_str\u001b[0m \u001b[0;34m=\u001b[0m \u001b[0;34m'{},{}'\u001b[0m\u001b[0;34m.\u001b[0m\u001b[0mformat\u001b[0m\u001b[0;34m(\u001b[0m\u001b[0mweather_json\u001b[0m\u001b[0;34m[\u001b[0m\u001b[0;34m'name'\u001b[0m\u001b[0;34m]\u001b[0m\u001b[0;34m,\u001b[0m \u001b[0mweather_json\u001b[0m\u001b[0;34m[\u001b[0m\u001b[0;34m'sys'\u001b[0m\u001b[0;34m]\u001b[0m\u001b[0;34m[\u001b[0m\u001b[0;34m'country'\u001b[0m\u001b[0;34m]\u001b[0m\u001b[0;34m)\u001b[0m\u001b[0;34m\u001b[0m\u001b[0m\n",
      "\u001b[0;31mValueError\u001b[0m: Bad Data Returned from API: Somewhere,WL - {'cod': '404', 'message': 'Error: Not found city'}"
     ]
    }
   ],
   "source": [
    "example_error.result()"
   ]
  },
  {
   "cell_type": "code",
   "execution_count": null,
   "metadata": {
    "collapsed": true
   },
   "outputs": [],
   "source": []
  }
 ],
 "metadata": {
  "kernelspec": {
   "display_name": "Python 3",
   "language": "python",
   "name": "python3"
  },
  "language_info": {
   "codemirror_mode": {
    "name": "ipython",
    "version": 3
   },
   "file_extension": ".py",
   "mimetype": "text/x-python",
   "name": "python",
   "nbconvert_exporter": "python",
   "pygments_lexer": "ipython3",
   "version": "3.4.3"
  }
 },
 "nbformat": 4,
 "nbformat_minor": 1
}

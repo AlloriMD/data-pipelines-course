{
 "cells": [
  {
   "cell_type": "code",
   "execution_count": 63,
   "metadata": {
    "collapsed": false
   },
   "outputs": [
    {
     "data": {
      "text/html": [
       "\n",
       "    <div class=\"bk-root\">\n",
       "        <a href=\"http://bokeh.pydata.org\" target=\"_blank\" class=\"bk-logo bk-logo-small bk-logo-notebook\"></a>\n",
       "        <span id=\"252331f7-0d19-4357-8641-740ad1821287\">Loading BokehJS ...</span>\n",
       "    </div>"
      ]
     },
     "metadata": {},
     "output_type": "display_data"
    },
    {
     "data": {
      "application/javascript": [
       "\n",
       "(function(global) {\n",
       "  function now() {\n",
       "    return new Date();\n",
       "  }\n",
       "\n",
       "  var force = \"1\";\n",
       "\n",
       "  if (typeof (window._bokeh_onload_callbacks) === \"undefined\" || force !== \"\") {\n",
       "    window._bokeh_onload_callbacks = [];\n",
       "    window._bokeh_is_loading = undefined;\n",
       "  }\n",
       "\n",
       "  function run_callbacks() {\n",
       "    window._bokeh_onload_callbacks.forEach(function(callback) { callback() });\n",
       "    delete window._bokeh_onload_callbacks\n",
       "    console.info(\"Bokeh: all callbacks have finished\");\n",
       "  }\n",
       "\n",
       "  function load_libs(js_urls, callback) {\n",
       "    window._bokeh_onload_callbacks.push(callback);\n",
       "    if (window._bokeh_is_loading > 0) {\n",
       "      console.log(\"Bokeh: BokehJS is being loaded, scheduling callback at\", now());\n",
       "      return null;\n",
       "    }\n",
       "    if (js_urls == null || js_urls.length === 0) {\n",
       "      run_callbacks();\n",
       "      return null;\n",
       "    }\n",
       "    console.log(\"Bokeh: BokehJS not loaded, scheduling load and callback at\", now());\n",
       "    window._bokeh_is_loading = js_urls.length;\n",
       "    for (var i = 0; i < js_urls.length; i++) {\n",
       "      var url = js_urls[i];\n",
       "      var s = document.createElement('script');\n",
       "      s.src = url;\n",
       "      s.async = false;\n",
       "      s.onreadystatechange = s.onload = function() {\n",
       "        window._bokeh_is_loading--;\n",
       "        if (window._bokeh_is_loading === 0) {\n",
       "          console.log(\"Bokeh: all BokehJS libraries loaded\");\n",
       "          run_callbacks()\n",
       "        }\n",
       "      };\n",
       "      s.onerror = function() {\n",
       "        console.warn(\"failed to load library \" + url);\n",
       "      };\n",
       "      console.log(\"Bokeh: injecting script tag for BokehJS library: \", url);\n",
       "      document.getElementsByTagName(\"head\")[0].appendChild(s);\n",
       "    }\n",
       "  };\n",
       "\n",
       "  var js_urls = ['https://cdn.pydata.org/bokeh/release/bokeh-0.12.1.min.js', 'https://cdn.pydata.org/bokeh/release/bokeh-widgets-0.12.1.min.js', 'https://cdn.pydata.org/bokeh/release/bokeh-compiler-0.12.1.min.js'];\n",
       "\n",
       "  var inline_js = [\n",
       "    function(Bokeh) {\n",
       "      Bokeh.set_log_level(\"info\");\n",
       "    },\n",
       "    \n",
       "    function(Bokeh) {\n",
       "      \n",
       "      Bokeh.$(\"#252331f7-0d19-4357-8641-740ad1821287\").text(\"BokehJS successfully loaded\");\n",
       "      var kernel = Jupyter.notebook.kernel\n",
       "      if (kernel.execute !== undefined) {\n",
       "          kernel.execute(\"import bokeh.io; bokeh.io._nb_loaded = True\");\n",
       "      }\n",
       "    },\n",
       "    function(Bokeh) {\n",
       "      console.log(\"Bokeh: injecting CSS: https://cdn.pydata.org/bokeh/release/bokeh-0.12.1.min.css\");\n",
       "      Bokeh.embed.inject_css(\"https://cdn.pydata.org/bokeh/release/bokeh-0.12.1.min.css\");\n",
       "      console.log(\"Bokeh: injecting CSS: https://cdn.pydata.org/bokeh/release/bokeh-widgets-0.12.1.min.css\");\n",
       "      Bokeh.embed.inject_css(\"https://cdn.pydata.org/bokeh/release/bokeh-widgets-0.12.1.min.css\");\n",
       "    }\n",
       "  ];\n",
       "\n",
       "  function run_inline_js() {\n",
       "    for (var i = 0; i < inline_js.length; i++) {\n",
       "      inline_js[i](window.Bokeh);\n",
       "    }\n",
       "  }\n",
       "\n",
       "  if (window._bokeh_is_loading === 0) {\n",
       "    console.log(\"Bokeh: BokehJS loaded, going straight to plotting\");\n",
       "    run_inline_js();\n",
       "  } else {\n",
       "    load_libs(js_urls, function() {\n",
       "      console.log(\"Bokeh: BokehJS plotting callback run at\", now());\n",
       "      run_inline_js();\n",
       "    });\n",
       "  }\n",
       "}(this));"
      ]
     },
     "metadata": {},
     "output_type": "display_data"
    }
   ],
   "source": [
    "from dask import bag\n",
    "import json\n",
    "from bokeh.plotting import output_notebook\n",
    "output_notebook()"
   ]
  },
  {
   "cell_type": "markdown",
   "metadata": {},
   "source": [
    "Some of this notebook is taken from [the Dask Examples repository](https://github.com/dask/dask-examples/blob/master/github-on-ec2.ipynb)\n",
    "\n",
    "To gather the data, I ran this in my terminal from the `data` directory:\n",
    "\n",
    "`wget http://data.githubarchive.org/2016-01-01-{0..23}.json.gz\n",
    "wget http://data.githubarchive.org/2015-12-31-{0..23}.json.gz`\n",
    "\n",
    "This is not (by any means) big data, but is used for example"
   ]
  },
  {
   "cell_type": "code",
   "execution_count": 2,
   "metadata": {
    "collapsed": false
   },
   "outputs": [],
   "source": [
    "db = bag.read_text(['../data/2016*.json.gz', '../data/2015*.json.gz']).map(json.loads)"
   ]
  },
  {
   "cell_type": "code",
   "execution_count": 102,
   "metadata": {
    "collapsed": false
   },
   "outputs": [
    {
     "data": {
      "text/plain": [
       "859983"
      ]
     },
     "execution_count": 102,
     "metadata": {},
     "output_type": "execute_result"
    }
   ],
   "source": [
    "db.count().compute()"
   ]
  },
  {
   "cell_type": "code",
   "execution_count": 103,
   "metadata": {
    "collapsed": false
   },
   "outputs": [
    {
     "data": {
      "text/plain": [
       "{'actor': {'avatar_url': 'https://avatars.githubusercontent.com/u/8684332?',\n",
       "  'gravatar_id': '',\n",
       "  'id': 8684332,\n",
       "  'login': 'Deovandski',\n",
       "  'url': 'https://api.github.com/users/Deovandski'},\n",
       " 'created_at': '2016-01-01T00:00:01Z',\n",
       " 'id': '3486701206',\n",
       " 'payload': {'action': 'started'},\n",
       " 'public': True,\n",
       " 'repo': {'id': 29355212,\n",
       "  'name': 'bssthu/KSP_GPWS',\n",
       "  'url': 'https://api.github.com/repos/bssthu/KSP_GPWS'},\n",
       " 'type': 'WatchEvent'}"
      ]
     },
     "execution_count": 103,
     "metadata": {},
     "output_type": "execute_result"
    }
   ],
   "source": [
    "first = db.take(1)[0]\n",
    "first"
   ]
  },
  {
   "cell_type": "code",
   "execution_count": 104,
   "metadata": {
    "collapsed": false
   },
   "outputs": [
    {
     "data": {
      "text/plain": [
       "{'actor': {'avatar_url': 'https://avatars.githubusercontent.com/u/2889931?',\n",
       "  'gravatar_id': '',\n",
       "  'id': 2889931,\n",
       "  'login': 'dastgir',\n",
       "  'url': 'https://api.github.com/users/dastgir'},\n",
       " 'created_at': '2016-01-01T00:00:02Z',\n",
       " 'id': '3486701226',\n",
       " 'org': {'avatar_url': 'https://avatars.githubusercontent.com/u/6535184?',\n",
       "  'gravatar_id': '',\n",
       "  'id': 6535184,\n",
       "  'login': 'ROClientSide',\n",
       "  'url': 'https://api.github.com/orgs/ROClientSide'},\n",
       " 'payload': {'before': '3a0e13ce2f3e4b0eb80db313a114c60a386f71f5',\n",
       "  'commits': [{'author': {'email': '0e0740481823b422262defa4314b7e6de25f1598@rocketmail.com',\n",
       "     'name': 'Dastgir'},\n",
       "    'distinct': True,\n",
       "    'message': '2014-10-10data_true_k.rgz',\n",
       "    'sha': '4c77d2aec345ec9288a4def5f83646e1e0b122bf',\n",
       "    'url': 'https://api.github.com/repos/ROClientSide/kRO-RAW/commits/4c77d2aec345ec9288a4def5f83646e1e0b122bf'}],\n",
       "  'distinct_size': 1,\n",
       "  'head': '4c77d2aec345ec9288a4def5f83646e1e0b122bf',\n",
       "  'push_id': 919779014,\n",
       "  'ref': 'refs/heads/master',\n",
       "  'size': 1},\n",
       " 'public': True,\n",
       " 'repo': {'id': 48784227,\n",
       "  'name': 'ROClientSide/kRO-RAW',\n",
       "  'url': 'https://api.github.com/repos/ROClientSide/kRO-RAW'},\n",
       " 'type': 'PushEvent'}"
      ]
     },
     "execution_count": 104,
     "metadata": {},
     "output_type": "execute_result"
    }
   ],
   "source": [
    "tenth = db.take(10)[-1]\n",
    "tenth"
   ]
  },
  {
   "cell_type": "code",
   "execution_count": 105,
   "metadata": {
    "collapsed": false
   },
   "outputs": [
    {
     "name": "stdout",
     "output_type": "stream",
     "text": [
      "CPU times: user 96 ms, sys: 40 ms, total: 136 ms\n",
      "Wall time: 5.66 s\n"
     ]
    },
    {
     "data": {
      "text/plain": [
       "[('ReleaseEvent', 3383),\n",
       " ('ForkEvent', 26823),\n",
       " ('PullRequestReviewCommentEvent', 9219),\n",
       " ('IssueCommentEvent', 60842),\n",
       " ('CommitCommentEvent', 3703),\n",
       " ('IssuesEvent', 34760),\n",
       " ('PullRequestEvent', 36867),\n",
       " ('CreateEvent', 102296),\n",
       " ('PushEvent', 472118),\n",
       " ('WatchEvent', 84809),\n",
       " ('GollumEvent', 6048),\n",
       " ('DeleteEvent', 15690),\n",
       " ('PublicEvent', 658),\n",
       " ('MemberEvent', 2767)]"
      ]
     },
     "execution_count": 105,
     "metadata": {},
     "output_type": "execute_result"
    }
   ],
   "source": [
    "%time db.pluck('type').frequencies().compute()"
   ]
  },
  {
   "cell_type": "code",
   "execution_count": 3,
   "metadata": {
    "collapsed": false
   },
   "outputs": [
    {
     "name": "stdout",
     "output_type": "stream",
     "text": [
      "CPU times: user 120 ms, sys: 36 ms, total: 156 ms\n",
      "Wall time: 6.66 s\n"
     ]
    },
    {
     "data": {
      "text/plain": [
       "[('16', 23666),\n",
       " ('17', 22998),\n",
       " ('15', 22889),\n",
       " ('14', 22078),\n",
       " ('18', 21891),\n",
       " ('19', 21707),\n",
       " ('20', 20977),\n",
       " ('22', 20813),\n",
       " ('13', 20653),\n",
       " ('21', 20329)]"
      ]
     },
     "execution_count": 3,
     "metadata": {},
     "output_type": "execute_result"
    }
   ],
   "source": [
    "import re\n",
    "time_pattern = re.compile('[\\d\\-]+T(?P<hour>[\\d]+)')\n",
    "\n",
    "pushes = db.filter(lambda x: x['type'] == 'PushEvent')\n",
    "hours = pushes.pluck('created_at').map(lambda x: re.search(time_pattern, x).group('hour'))\n",
    "top_10_hours = hours.frequencies().topk(10, key=lambda time, count: count)\n",
    "%time top_10_hours.compute()"
   ]
  },
  {
   "cell_type": "code",
   "execution_count": 107,
   "metadata": {
    "collapsed": false
   },
   "outputs": [
    {
     "name": "stdout",
     "output_type": "stream",
     "text": [
      "CPU times: user 124 ms, sys: 44 ms, total: 168 ms\n",
      "Wall time: 7.14 s\n"
     ]
    },
    {
     "data": {
      "text/plain": [
       "[('16', 35982),\n",
       " ('17', 35502),\n",
       " ('15', 34556),\n",
       " ('19', 34045),\n",
       " ('14', 33403),\n",
       " ('18', 32819),\n",
       " ('22', 31887),\n",
       " ('20', 31542),\n",
       " ('13', 30938),\n",
       " ('21', 30915)]"
      ]
     },
     "execution_count": 107,
     "metadata": {},
     "output_type": "execute_result"
    }
   ],
   "source": [
    "def get_hours(x):\n",
    "    \"\"\"The key for foldby, like a groupby key. Get the hour from a PushEvent\"\"\"\n",
    "    return re.search(time_pattern, x['created_at']).group('hour')\n",
    "\n",
    "def binop(total, x):\n",
    "    \"\"\"Count the number of commits in a PushEvent\"\"\"\n",
    "    return total + len(x['payload']['commits'])\n",
    "\n",
    "def combine(total1, total2):\n",
    "    \"\"\"This combines commit counts from PushEvents\"\"\"\n",
    "    return total1 + total2\n",
    "\n",
    "commits = pushes.foldby(get_hours, binop, initial=0, combine=combine)\n",
    "top_commits = commits.topk(10, key=lambda time, count: count)\n",
    "%time top_commits.compute()"
   ]
  },
  {
   "cell_type": "code",
   "execution_count": 21,
   "metadata": {
    "collapsed": false
   },
   "outputs": [
    {
     "name": "stdout",
     "output_type": "stream",
     "text": [
      "CPU times: user 8.34 s, sys: 152 ms, total: 8.49 s\n",
      "Wall time: 13.3 s\n"
     ]
    },
    {
     "data": {
      "text/plain": [
       "[('to', 139933),\n",
       " ('the', 120673),\n",
       " ('for', 79815),\n",
       " ('and', 74132),\n",
       " ('of', 63855),\n",
       " ('from', 60033),\n",
       " ('in', 58738),\n",
       " ('Merge', 56151),\n",
       " ('Update', 50226),\n",
       " ('a', 49384)]"
      ]
     },
     "execution_count": 21,
     "metadata": {},
     "output_type": "execute_result"
    }
   ],
   "source": [
    "messages = pushes.pluck('payload').map(lambda x: ' '.join([c['message'].lower() for c in x['commits']]))\n",
    "top_10_words = messages.str.split().concat().frequencies().topk(10, lambda word, count: count)\n",
    "%time top_10_words.compute()"
   ]
  },
  {
   "cell_type": "code",
   "execution_count": 27,
   "metadata": {
    "collapsed": false
   },
   "outputs": [],
   "source": [
    "from nltk.corpus import stopwords"
   ]
  },
  {
   "cell_type": "code",
   "execution_count": 58,
   "metadata": {
    "collapsed": true
   },
   "outputs": [],
   "source": [
    "def get_combined_messages(x):\n",
    "    long_str = ' '.join([c['message'].lower() for c in x['commits']])\n",
    "    return ' '.join([w for w in long_str.split() if w not in stopwords.words('english')])"
   ]
  },
  {
   "cell_type": "code",
   "execution_count": 59,
   "metadata": {
    "collapsed": false
   },
   "outputs": [
    {
     "data": {
      "text/plain": [
       "('857 threads update',\n",
       " '',\n",
       " '2014-10-10data_true_k.rgz',\n",
       " 'update',\n",
       " 'fix hsqldb pom.xml file change-id: i44280df790fce678649c36ed736eff93c0ab1ac7 signed-off-by: sharon aicler <saichler@cisco.com>')"
      ]
     },
     "execution_count": 59,
     "metadata": {},
     "output_type": "execute_result"
    }
   ],
   "source": [
    "long_strs = pushes.pluck('payload').map(get_combined_messages)\n",
    "long_strs.take(5)"
   ]
  },
  {
   "cell_type": "code",
   "execution_count": 60,
   "metadata": {
    "collapsed": false
   },
   "outputs": [],
   "source": [
    "top_20_words = long_strs.str.split().concat().frequencies().topk(20, lambda word, count: count)"
   ]
  },
  {
   "cell_type": "code",
   "execution_count": 64,
   "metadata": {
    "collapsed": false
   },
   "outputs": [
    {
     "data": {
      "text/html": [
       "\n",
       "\n",
       "    <div class=\"bk-root\">\n",
       "        <div class=\"plotdiv\" id=\"14bd5a7f-016a-4ed9-aab9-d6f0e3c2d372\"></div>\n",
       "    </div>\n",
       "<script type=\"text/javascript\">\n",
       "  \n",
       "  (function(global) {\n",
       "    function now() {\n",
       "      return new Date();\n",
       "    }\n",
       "  \n",
       "    var force = \"\";\n",
       "  \n",
       "    if (typeof (window._bokeh_onload_callbacks) === \"undefined\" || force !== \"\") {\n",
       "      window._bokeh_onload_callbacks = [];\n",
       "      window._bokeh_is_loading = undefined;\n",
       "    }\n",
       "  \n",
       "    function run_callbacks() {\n",
       "      window._bokeh_onload_callbacks.forEach(function(callback) { callback() });\n",
       "      delete window._bokeh_onload_callbacks\n",
       "      console.info(\"Bokeh: all callbacks have finished\");\n",
       "    }\n",
       "  \n",
       "    function load_libs(js_urls, callback) {\n",
       "      window._bokeh_onload_callbacks.push(callback);\n",
       "      if (window._bokeh_is_loading > 0) {\n",
       "        console.log(\"Bokeh: BokehJS is being loaded, scheduling callback at\", now());\n",
       "        return null;\n",
       "      }\n",
       "      if (js_urls == null || js_urls.length === 0) {\n",
       "        run_callbacks();\n",
       "        return null;\n",
       "      }\n",
       "      console.log(\"Bokeh: BokehJS not loaded, scheduling load and callback at\", now());\n",
       "      window._bokeh_is_loading = js_urls.length;\n",
       "      for (var i = 0; i < js_urls.length; i++) {\n",
       "        var url = js_urls[i];\n",
       "        var s = document.createElement('script');\n",
       "        s.src = url;\n",
       "        s.async = false;\n",
       "        s.onreadystatechange = s.onload = function() {\n",
       "          window._bokeh_is_loading--;\n",
       "          if (window._bokeh_is_loading === 0) {\n",
       "            console.log(\"Bokeh: all BokehJS libraries loaded\");\n",
       "            run_callbacks()\n",
       "          }\n",
       "        };\n",
       "        s.onerror = function() {\n",
       "          console.warn(\"failed to load library \" + url);\n",
       "        };\n",
       "        console.log(\"Bokeh: injecting script tag for BokehJS library: \", url);\n",
       "        document.getElementsByTagName(\"head\")[0].appendChild(s);\n",
       "      }\n",
       "    };var element = document.getElementById(\"14bd5a7f-016a-4ed9-aab9-d6f0e3c2d372\");\n",
       "    if (element == null) {\n",
       "      console.log(\"Bokeh: ERROR: autoload.js configured with elementid '14bd5a7f-016a-4ed9-aab9-d6f0e3c2d372' but no matching script tag was found. \")\n",
       "      return false;\n",
       "    }\n",
       "  \n",
       "    var js_urls = [];\n",
       "  \n",
       "    var inline_js = [\n",
       "      function(Bokeh) {\n",
       "        Bokeh.$(function() {\n",
       "            var docs_json = {\"65e6bd49-cbe9-475d-9108-e7a2263b6b37\":{\"roots\":{\"references\":[{\"attributes\":{},\"id\":\"5d6911d2-faef-4988-a4b3-10b41c92124e\",\"type\":\"ToolEvents\"},{\"attributes\":{\"callback\":null,\"end\":93.00268312700791},\"id\":\"220134a6-48e3-4711-a786-59d1fcafcf0c\",\"type\":\"Range1d\"},{\"attributes\":{\"callback\":null,\"factors\":[\"0\",\"1\",\"2\",\"3\",\"4\",\"5\",\"6\",\"7\"]},\"id\":\"db1ef36c-91f7-4df3-a701-81f3ec0f78ca\",\"type\":\"FactorRange\"},{\"attributes\":{\"axis_label\":\"Worker ID\",\"axis_line_color\":{\"value\":null},\"formatter\":{\"id\":\"4a688151-4a63-490f-9f0a-1ccfabbb9117\",\"type\":\"CategoricalTickFormatter\"},\"major_tick_line_color\":{\"value\":null},\"plot\":{\"id\":\"c6acec51-0105-4fa8-92e1-6287b3b4c68c\",\"subtype\":\"Figure\",\"type\":\"Plot\"},\"ticker\":{\"id\":\"c694006e-54e6-43e1-83a6-59bd9870ee83\",\"type\":\"CategoricalTicker\"}},\"id\":\"e6822e56-80b7-4bf7-815e-25b82705ddb9\",\"type\":\"CategoricalAxis\"},{\"attributes\":{\"plot\":{\"id\":\"c6acec51-0105-4fa8-92e1-6287b3b4c68c\",\"subtype\":\"Figure\",\"type\":\"Plot\"}},\"id\":\"fe5d016e-c871-4d1c-8c45-84d1db8ed4c4\",\"type\":\"ResetTool\"},{\"attributes\":{\"dimensions\":[\"width\"],\"plot\":{\"id\":\"c6acec51-0105-4fa8-92e1-6287b3b4c68c\",\"subtype\":\"Figure\",\"type\":\"Plot\"}},\"id\":\"44b15c05-66e2-4fc5-aeae-43a1fff9c84e\",\"type\":\"PanTool\"},{\"attributes\":{\"grid_line_color\":{\"value\":null},\"plot\":{\"id\":\"c6acec51-0105-4fa8-92e1-6287b3b4c68c\",\"subtype\":\"Figure\",\"type\":\"Plot\"},\"ticker\":{\"id\":\"ceace56d-f2eb-4620-bfed-c621081793f5\",\"type\":\"BasicTicker\"}},\"id\":\"869a7b1c-1d89-458d-bee2-d0df30357847\",\"type\":\"Grid\"},{\"attributes\":{\"dimension\":1,\"grid_line_color\":{\"value\":null},\"plot\":{\"id\":\"c6acec51-0105-4fa8-92e1-6287b3b4c68c\",\"subtype\":\"Figure\",\"type\":\"Plot\"},\"ticker\":{\"id\":\"c694006e-54e6-43e1-83a6-59bd9870ee83\",\"type\":\"CategoricalTicker\"}},\"id\":\"e5ad1b06-60f8-4ca6-800b-ab8713d5a3bf\",\"type\":\"Grid\"},{\"attributes\":{},\"id\":\"c694006e-54e6-43e1-83a6-59bd9870ee83\",\"type\":\"CategoricalTicker\"},{\"attributes\":{\"plot\":null,\"text\":\"Profile Results\"},\"id\":\"c77bf409-2c81-4c6f-b792-0bc6ac333e97\",\"type\":\"Title\"},{\"attributes\":{},\"id\":\"2e701900-ac83-4c9c-815e-715dccbd030d\",\"type\":\"BasicTickFormatter\"},{\"attributes\":{\"callback\":null,\"plot\":{\"id\":\"c6acec51-0105-4fa8-92e1-6287b3b4c68c\",\"subtype\":\"Figure\",\"type\":\"Plot\"},\"point_policy\":\"follow_mouse\",\"tooltips\":\"\\n    <div>\\n        <span style=\\\"font-size: 14px; font-weight: bold;\\\">Key:</span>&nbsp;\\n        <span style=\\\"font-size: 10px; font-family: Monaco, monospace;\\\">@key</span>\\n    </div>\\n    <div>\\n        <span style=\\\"font-size: 14px; font-weight: bold;\\\">Task:</span>&nbsp;\\n        <span style=\\\"font-size: 10px; font-family: Monaco, monospace;\\\">@function</span>\\n    </div>\\n    \"},\"id\":\"9a53c173-a727-4f68-8f99-252a54d27db1\",\"type\":\"HoverTool\"},{\"attributes\":{\"fill_color\":{\"field\":\"color\"},\"height\":{\"units\":\"data\",\"value\":1},\"line_color\":{\"value\":\"gray\"},\"width\":{\"field\":\"width\",\"units\":\"data\"},\"x\":{\"field\":\"x\"},\"y\":{\"field\":\"y\"}},\"id\":\"720d8a4a-aa67-4aab-a737-b54997abaefa\",\"type\":\"Rect\"},{\"attributes\":{\"callback\":null,\"column_names\":[\"x\",\"color\",\"key\",\"width\",\"y\",\"function\"],\"data\":{\"color\":[\"#7fcdbb\",\"#7fcdbb\",\"#7fcdbb\",\"#7fcdbb\",\"#7fcdbb\",\"#7fcdbb\",\"#7fcdbb\",\"#7fcdbb\",\"#7fcdbb\",\"#7fcdbb\",\"#2c7fb8\",\"#7fcdbb\",\"#7fcdbb\",\"#7fcdbb\",\"#7fcdbb\",\"#7fcdbb\",\"#2c7fb8\",\"#7fcdbb\",\"#7fcdbb\",\"#7fcdbb\",\"#edf8b1\",\"#7fcdbb\",\"#7fcdbb\",\"#7fcdbb\",\"#7fcdbb\",\"#7fcdbb\",\"#7fcdbb\",\"#7fcdbb\",\"#2c7fb8\",\"#2c7fb8\",\"#7fcdbb\",\"#7fcdbb\",\"#7fcdbb\",\"#7fcdbb\",\"#7fcdbb\",\"#7fcdbb\",\"#2c7fb8\",\"#7fcdbb\",\"#7fcdbb\",\"#7fcdbb\",\"#7fcdbb\",\"#7fcdbb\",\"#7fcdbb\",\"#7fcdbb\",\"#7fcdbb\",\"#7fcdbb\",\"#7fcdbb\",\"#7fcdbb\",\"#7fcdbb\",\"#7fcdbb\",\"#7fcdbb\",\"#7fcdbb\",\"#7fcdbb\",\"#2c7fb8\",\"#7fcdbb\"],\"function\":[\"empty_safe_apply(*, concat(map(...)))\",\"empty_safe_apply(*, concat(map(...)))\",\"empty_safe_apply(*, concat(map(...)))\",\"empty_safe_apply(*, concat(map(...)))\",\"empty_safe_apply(*, concat(map(...)))\",\"empty_safe_apply(*, concat(map(...)))\",\"empty_safe_apply(*, concat(map(...)))\",\"empty_safe_apply(*, concat(map(...)))\",\"empty_safe_apply(*, concat(map(...)))\",\"empty_safe_apply(*, concat(map(...)))\",\"empty_safe_aggregate(*, [_, _, _, ...])\",\"empty_safe_apply(*, concat(map(...)))\",\"empty_safe_apply(*, concat(map(...)))\",\"empty_safe_apply(*, concat(map(...)))\",\"empty_safe_apply(*, concat(map(...)))\",\"empty_safe_apply(*, concat(map(...)))\",\"empty_safe_aggregate(*, [_, _, _, ...])\",\"empty_safe_apply(*, concat(map(...)))\",\"empty_safe_apply(*, concat(map(...)))\",\"empty_safe_apply(*, concat(map(...)))\",\"empty_safe_apply(*, dictitems(empty_safe_aggregate(...)))\",\"empty_safe_apply(*, concat(map(...)))\",\"empty_safe_apply(*, concat(map(...)))\",\"empty_safe_apply(*, concat(map(...)))\",\"empty_safe_apply(*, concat(map(...)))\",\"empty_safe_apply(*, concat(map(...)))\",\"empty_safe_apply(*, concat(map(...)))\",\"empty_safe_apply(*, concat(map(...)))\",\"empty_safe_aggregate(*, [_, _, _, ...])\",\"empty_safe_aggregate(*, [_, _, _, ...])\",\"empty_safe_apply(*, concat(map(...)))\",\"empty_safe_apply(*, concat(map(...)))\",\"empty_safe_apply(*, concat(map(...)))\",\"empty_safe_apply(*, concat(map(...)))\",\"empty_safe_apply(*, concat(map(...)))\",\"empty_safe_apply(*, concat(map(...)))\",\"empty_safe_aggregate(*, [_, _, _, ...])\",\"empty_safe_apply(*, concat(map(...)))\",\"empty_safe_apply(*, concat(map(...)))\",\"empty_safe_apply(*, concat(map(...)))\",\"empty_safe_apply(*, concat(map(...)))\",\"empty_safe_apply(*, concat(map(...)))\",\"empty_safe_apply(*, concat(map(...)))\",\"empty_safe_apply(*, concat(map(...)))\",\"empty_safe_apply(*, concat(map(...)))\",\"empty_safe_apply(*, concat(map(...)))\",\"empty_safe_apply(*, concat(map(...)))\",\"empty_safe_apply(*, concat(map(...)))\",\"empty_safe_apply(*, concat(map(...)))\",\"empty_safe_apply(*, concat(map(...)))\",\"empty_safe_apply(*, concat(map(...)))\",\"empty_safe_apply(*, concat(map(...)))\",\"empty_safe_apply(*, concat(map(...)))\",\"empty_safe_aggregate(*, [_, _, _, ...])\",\"empty_safe_apply(*, concat(map(...)))\"],\"key\":[\"('frequencies-part-630bc532ae597689980e334ca7126963', 21)\",\"('frequencies-part-630bc532ae597689980e334ca7126963', 15)\",\"('frequencies-part-630bc532ae597689980e334ca7126963', 46)\",\"('frequencies-part-630bc532ae597689980e334ca7126963', 24)\",\"('frequencies-part-630bc532ae597689980e334ca7126963', 39)\",\"('frequencies-part-630bc532ae597689980e334ca7126963', 17)\",\"('frequencies-part-630bc532ae597689980e334ca7126963', 11)\",\"('frequencies-part-630bc532ae597689980e334ca7126963', 32)\",\"('frequencies-part-630bc532ae597689980e334ca7126963', 42)\",\"('frequencies-part-630bc532ae597689980e334ca7126963', 4)\",\"('frequencies-aggregate-630bc532ae597689980e334ca71269630', 1)\",\"('frequencies-part-630bc532ae597689980e334ca7126963', 29)\",\"('frequencies-part-630bc532ae597689980e334ca7126963', 35)\",\"('frequencies-part-630bc532ae597689980e334ca7126963', 22)\",\"('frequencies-part-630bc532ae597689980e334ca7126963', 0)\",\"('frequencies-part-630bc532ae597689980e334ca7126963', 47)\",\"('frequencies-aggregate-630bc532ae597689980e334ca71269630', 4)\",\"('frequencies-part-630bc532ae597689980e334ca7126963', 25)\",\"('frequencies-part-630bc532ae597689980e334ca7126963', 18)\",\"('frequencies-part-630bc532ae597689980e334ca7126963', 12)\",\"('topk-part-068aca0caedc48ec1686d48775b1cfe5', 0)\",\"('frequencies-part-630bc532ae597689980e334ca7126963', 43)\",\"('frequencies-part-630bc532ae597689980e334ca7126963', 5)\",\"('frequencies-part-630bc532ae597689980e334ca7126963', 36)\",\"('frequencies-part-630bc532ae597689980e334ca7126963', 30)\",\"('frequencies-part-630bc532ae597689980e334ca7126963', 8)\",\"('frequencies-part-630bc532ae597689980e334ca7126963', 23)\",\"('frequencies-part-630bc532ae597689980e334ca7126963', 1)\",\"('frequencies-aggregate-630bc532ae597689980e334ca71269630', 3)\",\"('frequencies-aggregate-630bc532ae597689980e334ca71269630', 2)\",\"('frequencies-part-630bc532ae597689980e334ca7126963', 26)\",\"('frequencies-part-630bc532ae597689980e334ca7126963', 19)\",\"('frequencies-part-630bc532ae597689980e334ca7126963', 13)\",\"('frequencies-part-630bc532ae597689980e334ca7126963', 44)\",\"('frequencies-part-630bc532ae597689980e334ca7126963', 6)\",\"('frequencies-part-630bc532ae597689980e334ca7126963', 37)\",\"('frequencies-aggregate-630bc532ae597689980e334ca71269630', 5)\",\"('frequencies-part-630bc532ae597689980e334ca7126963', 31)\",\"('frequencies-part-630bc532ae597689980e334ca7126963', 9)\",\"('frequencies-part-630bc532ae597689980e334ca7126963', 40)\",\"('frequencies-part-630bc532ae597689980e334ca7126963', 2)\",\"('frequencies-part-630bc532ae597689980e334ca7126963', 33)\",\"('frequencies-part-630bc532ae597689980e334ca7126963', 27)\",\"('frequencies-part-630bc532ae597689980e334ca7126963', 20)\",\"('frequencies-part-630bc532ae597689980e334ca7126963', 14)\",\"('frequencies-part-630bc532ae597689980e334ca7126963', 45)\",\"('frequencies-part-630bc532ae597689980e334ca7126963', 7)\",\"('frequencies-part-630bc532ae597689980e334ca7126963', 34)\",\"('frequencies-part-630bc532ae597689980e334ca7126963', 38)\",\"('frequencies-part-630bc532ae597689980e334ca7126963', 16)\",\"('frequencies-part-630bc532ae597689980e334ca7126963', 10)\",\"('frequencies-part-630bc532ae597689980e334ca7126963', 41)\",\"('frequencies-part-630bc532ae597689980e334ca7126963', 3)\",\"('frequencies-aggregate-630bc532ae597689980e334ca71269630', 0)\",\"('frequencies-part-630bc532ae597689980e334ca7126963', 28)\"],\"width\":[7.826017735002097,21.030509707008605,15.04503195999132,17.611771222989773,16.547373455992783,8.165722158999415,15.986951913000667,20.39779339400411,14.2179012199922,9.551552585995523,2.3202006659994368,17.204266836008173,20.444252254994353,7.283013700987794,11.374839793003048,15.663321047992213,2.0539997149899136,16.23529186399537,8.227822105007363,10.53682316299819,3.2425955049984623,13.66027126199333,11.308102358001634,15.528539596998598,19.668759806998423,15.882896684997831,9.265757576999022,9.963001702999463,1.2102433190011652,1.3053495940112043,13.706842617990333,7.570304468012182,17.875526310002897,14.42552600199997,11.47699553098937,16.263046979991486,1.7878267750056693,18.210770438992768,16.144155044996296,12.038630469003692,7.867342818004545,18.578134690993465,13.955116609999095,8.09538567600248,19.092439435000415,14.919632915989496,13.434686079999665,17.817580553004518,16.369569597998634,16.73043965100078,16.891341870999895,14.781158172001597,9.309346699999878,1.5144444959878456,16.80359724498703],\"x\":[68.55583419950563,25.47369085349783,58.497649826997076,77.96433369850274,37.53471073201217,60.55995630250254,17.968452345507103,40.77623058001336,49.333941799006425,4.78010695600824,37.1490546319983,75.11376034999557,33.97238100550021,68.67302292351087,5.698061626506387,59.53894529500394,57.914306721504545,80.43218485100078,62.73395972351136,16.582639588494203,91.38138537450868,49.64695228000346,5.660169002992916,33.22030658950098,76.68225820349471,15.80879902849847,60.39862901849847,4.9934684355102945,89.15495776951138,73.82602191700425,79.32227218001208,62.7264671150042,20.323252520000096,51.40727777099528,5.746255922495038,34.093459843003075,68.2645261114958,77.92882432551414,17.383950830510003,45.68796197150368,3.9336714090022724,47.59823152750323,81.45626441600325,64.77573892999499,21.03098151051381,53.268221242004074,6.726633976999437,30.759848626505118,34.632024980004644,64.80812022650207,18.00156086550851,48.37516344500182,4.657192085011047,14.201206604004255,74.42197205350385],\"y\":[7,1,6,3,4,7,5,6,5,7,1,1,2,8,4,3,1,8,2,3,1,7,3,8,2,2,8,5,6,5,7,1,4,2,6,5,3,4,8,3,2,1,5,4,6,4,1,3,7,5,7,8,8,1,6]}},\"id\":\"6f6bd145-321d-4ed7-b936-4ce7ac31aed1\",\"type\":\"ColumnDataSource\"},{\"attributes\":{\"active_drag\":\"auto\",\"active_scroll\":\"auto\",\"active_tap\":\"auto\",\"tools\":[{\"id\":\"9a53c173-a727-4f68-8f99-252a54d27db1\",\"type\":\"HoverTool\"},{\"id\":\"ee8a0037-f26a-462e-91a9-1a84fe7f877b\",\"type\":\"SaveTool\"},{\"id\":\"fe5d016e-c871-4d1c-8c45-84d1db8ed4c4\",\"type\":\"ResetTool\"},{\"id\":\"51abeba2-72f5-4b79-9b5e-0eff25201183\",\"type\":\"ResizeTool\"},{\"id\":\"1ec08b52-b16c-44e0-8bdd-0beccd16271c\",\"type\":\"WheelZoomTool\"},{\"id\":\"44b15c05-66e2-4fc5-aeae-43a1fff9c84e\",\"type\":\"PanTool\"}]},\"id\":\"e26ee60a-bf67-46cf-83c8-baf3efbc3698\",\"type\":\"Toolbar\"},{\"attributes\":{},\"id\":\"ceace56d-f2eb-4620-bfed-c621081793f5\",\"type\":\"BasicTicker\"},{\"attributes\":{\"axis_label\":\"Time (s)\",\"axis_line_color\":{\"value\":null},\"formatter\":{\"id\":\"2e701900-ac83-4c9c-815e-715dccbd030d\",\"type\":\"BasicTickFormatter\"},\"major_tick_line_color\":{\"value\":null},\"plot\":{\"id\":\"c6acec51-0105-4fa8-92e1-6287b3b4c68c\",\"subtype\":\"Figure\",\"type\":\"Plot\"},\"ticker\":{\"id\":\"ceace56d-f2eb-4620-bfed-c621081793f5\",\"type\":\"BasicTicker\"}},\"id\":\"7c8e8e8d-8e68-4922-a069-65c9e81e533d\",\"type\":\"LinearAxis\"},{\"attributes\":{},\"id\":\"4a688151-4a63-490f-9f0a-1ccfabbb9117\",\"type\":\"CategoricalTickFormatter\"},{\"attributes\":{\"data_source\":{\"id\":\"6f6bd145-321d-4ed7-b936-4ce7ac31aed1\",\"type\":\"ColumnDataSource\"},\"glyph\":{\"id\":\"720d8a4a-aa67-4aab-a737-b54997abaefa\",\"type\":\"Rect\"},\"hover_glyph\":null,\"nonselection_glyph\":{\"id\":\"79265d55-0bc4-43e9-bdba-556c43ae9456\",\"type\":\"Rect\"},\"selection_glyph\":null},\"id\":\"f9cf21b6-96af-4059-b219-fb85a42db4d4\",\"type\":\"GlyphRenderer\"},{\"attributes\":{\"below\":[{\"id\":\"7c8e8e8d-8e68-4922-a069-65c9e81e533d\",\"type\":\"LinearAxis\"}],\"left\":[{\"id\":\"e6822e56-80b7-4bf7-815e-25b82705ddb9\",\"type\":\"CategoricalAxis\"}],\"plot_height\":300,\"plot_width\":800,\"renderers\":[{\"id\":\"7c8e8e8d-8e68-4922-a069-65c9e81e533d\",\"type\":\"LinearAxis\"},{\"id\":\"869a7b1c-1d89-458d-bee2-d0df30357847\",\"type\":\"Grid\"},{\"id\":\"e6822e56-80b7-4bf7-815e-25b82705ddb9\",\"type\":\"CategoricalAxis\"},{\"id\":\"e5ad1b06-60f8-4ca6-800b-ab8713d5a3bf\",\"type\":\"Grid\"},{\"id\":\"f9cf21b6-96af-4059-b219-fb85a42db4d4\",\"type\":\"GlyphRenderer\"}],\"title\":{\"id\":\"c77bf409-2c81-4c6f-b792-0bc6ac333e97\",\"type\":\"Title\"},\"tool_events\":{\"id\":\"5d6911d2-faef-4988-a4b3-10b41c92124e\",\"type\":\"ToolEvents\"},\"toolbar\":{\"id\":\"e26ee60a-bf67-46cf-83c8-baf3efbc3698\",\"type\":\"Toolbar\"},\"x_range\":{\"id\":\"220134a6-48e3-4711-a786-59d1fcafcf0c\",\"type\":\"Range1d\"},\"y_range\":{\"id\":\"db1ef36c-91f7-4df3-a701-81f3ec0f78ca\",\"type\":\"FactorRange\"}},\"id\":\"c6acec51-0105-4fa8-92e1-6287b3b4c68c\",\"subtype\":\"Figure\",\"type\":\"Plot\"},{\"attributes\":{\"plot\":{\"id\":\"c6acec51-0105-4fa8-92e1-6287b3b4c68c\",\"subtype\":\"Figure\",\"type\":\"Plot\"}},\"id\":\"ee8a0037-f26a-462e-91a9-1a84fe7f877b\",\"type\":\"SaveTool\"},{\"attributes\":{\"fill_alpha\":{\"value\":0.1},\"fill_color\":{\"value\":\"#1f77b4\"},\"height\":{\"units\":\"data\",\"value\":1},\"line_alpha\":{\"value\":0.1},\"line_color\":{\"value\":\"#1f77b4\"},\"width\":{\"field\":\"width\",\"units\":\"data\"},\"x\":{\"field\":\"x\"},\"y\":{\"field\":\"y\"}},\"id\":\"79265d55-0bc4-43e9-bdba-556c43ae9456\",\"type\":\"Rect\"},{\"attributes\":{\"plot\":{\"id\":\"c6acec51-0105-4fa8-92e1-6287b3b4c68c\",\"subtype\":\"Figure\",\"type\":\"Plot\"}},\"id\":\"51abeba2-72f5-4b79-9b5e-0eff25201183\",\"type\":\"ResizeTool\"},{\"attributes\":{\"dimensions\":[\"width\"],\"plot\":{\"id\":\"c6acec51-0105-4fa8-92e1-6287b3b4c68c\",\"subtype\":\"Figure\",\"type\":\"Plot\"}},\"id\":\"1ec08b52-b16c-44e0-8bdd-0beccd16271c\",\"type\":\"WheelZoomTool\"}],\"root_ids\":[\"c6acec51-0105-4fa8-92e1-6287b3b4c68c\"]},\"title\":\"Bokeh Application\",\"version\":\"0.12.1\"}};\n",
       "            var render_items = [{\"docid\":\"65e6bd49-cbe9-475d-9108-e7a2263b6b37\",\"elementid\":\"14bd5a7f-016a-4ed9-aab9-d6f0e3c2d372\",\"modelid\":\"c6acec51-0105-4fa8-92e1-6287b3b4c68c\",\"notebook_comms_target\":\"ca02e401-d30a-49af-87bd-4f5f3cd3e789\"}];\n",
       "            \n",
       "            Bokeh.embed.embed_items(docs_json, render_items);\n",
       "        });\n",
       "      },\n",
       "      function(Bokeh) {\n",
       "      }\n",
       "    ];\n",
       "  \n",
       "    function run_inline_js() {\n",
       "      for (var i = 0; i < inline_js.length; i++) {\n",
       "        inline_js[i](window.Bokeh);\n",
       "      }\n",
       "    }\n",
       "  \n",
       "    if (window._bokeh_is_loading === 0) {\n",
       "      console.log(\"Bokeh: BokehJS loaded, going straight to plotting\");\n",
       "      run_inline_js();\n",
       "    } else {\n",
       "      load_libs(js_urls, function() {\n",
       "        console.log(\"Bokeh: BokehJS plotting callback run at\", now());\n",
       "        run_inline_js();\n",
       "      });\n",
       "    }\n",
       "  }(this));\n",
       "</script>"
      ]
     },
     "metadata": {},
     "output_type": "display_data"
    },
    {
     "data": {
      "text/plain": [
       "<bokeh.plotting.figure.Figure at 0x7f68bf224dd8>"
      ]
     },
     "execution_count": 64,
     "metadata": {},
     "output_type": "execute_result"
    }
   ],
   "source": [
    "from dask.diagnostics import Profiler\n",
    "prof = Profiler()\n",
    "\n",
    "with prof:\n",
    "    top_20_words.compute()\n",
    "\n",
    "prof.visualize()"
   ]
  },
  {
   "cell_type": "code",
   "execution_count": null,
   "metadata": {
    "collapsed": true
   },
   "outputs": [],
   "source": []
  }
 ],
 "metadata": {
  "kernelspec": {
   "display_name": "Python 3",
   "language": "python",
   "name": "python3"
  },
  "language_info": {
   "codemirror_mode": {
    "name": "ipython",
    "version": 3
   },
   "file_extension": ".py",
   "mimetype": "text/x-python",
   "name": "python",
   "nbconvert_exporter": "python",
   "pygments_lexer": "ipython3",
   "version": "3.4.3"
  }
 },
 "nbformat": 4,
 "nbformat_minor": 1
}

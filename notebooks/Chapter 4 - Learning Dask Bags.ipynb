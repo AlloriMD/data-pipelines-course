{
 "cells": [
  {
   "cell_type": "code",
   "execution_count": null,
   "metadata": {},
   "outputs": [],
   "source": [
    "from dask import bag\n",
    "import json\n",
    "from bokeh.plotting import output_notebook\n",
    "output_notebook()"
   ]
  },
  {
   "cell_type": "markdown",
   "metadata": {},
   "source": [
    "Some of this notebook is taken from [the Dask Examples repository](https://github.com/dask/dask-examples/blob/master/github-on-ec2.ipynb)\n",
    "\n",
    "To gather the data, I ran this in my terminal from the `data` directory:\n",
    "\n",
    "`wget http://data.githubarchive.org/2016-01-01-{0..23}.json.gz\n",
    "wget http://data.githubarchive.org/2015-12-31-{0..23}.json.gz`\n",
    "\n",
    "This is not (by any means) big data, but is used for example"
   ]
  },
  {
   "cell_type": "code",
   "execution_count": null,
   "metadata": {},
   "outputs": [],
   "source": [
    "db = bag.read_text(['../data/2016*.json.gz', '../data/2015*.json.gz']).map(json.loads)"
   ]
  },
  {
   "cell_type": "code",
   "execution_count": null,
   "metadata": {},
   "outputs": [],
   "source": [
    "db.count().compute()"
   ]
  },
  {
   "cell_type": "code",
   "execution_count": null,
   "metadata": {},
   "outputs": [],
   "source": [
    "first = db.take(1)[0]\n",
    "first"
   ]
  },
  {
   "cell_type": "code",
   "execution_count": null,
   "metadata": {},
   "outputs": [],
   "source": [
    "tenth = db.take(10)[-1]\n",
    "tenth"
   ]
  },
  {
   "cell_type": "code",
   "execution_count": null,
   "metadata": {},
   "outputs": [],
   "source": [
    "%time db.pluck('type').frequencies().compute()"
   ]
  },
  {
   "cell_type": "code",
   "execution_count": null,
   "metadata": {},
   "outputs": [],
   "source": [
    "import re\n",
    "time_pattern = re.compile('[\\d\\-]+T(?P<hour>[\\d]+)')\n",
    "\n",
    "pushes = db.filter(lambda x: x['type'] == 'PushEvent')\n",
    "hours = pushes.pluck('created_at').map(lambda x: re.search(time_pattern, x).group('hour'))\n",
    "top_10_hours = hours.frequencies().topk(10, key=lambda time, count: count)\n",
    "%time top_10_hours.compute()"
   ]
  },
  {
   "cell_type": "code",
   "execution_count": null,
   "metadata": {},
   "outputs": [],
   "source": [
    "def get_hours(x):\n",
    "    \"\"\"The key for foldby, like a groupby key. Get the hour from a PushEvent\"\"\"\n",
    "    return re.search(time_pattern, x['created_at']).group('hour')\n",
    "\n",
    "def binop(total, x):\n",
    "    \"\"\"Count the number of commits in a PushEvent\"\"\"\n",
    "    return total + len(x['payload']['commits'])\n",
    "\n",
    "def combine(total1, total2):\n",
    "    \"\"\"This combines commit counts from PushEvents\"\"\"\n",
    "    return total1 + total2\n",
    "\n",
    "commits = pushes.foldby(get_hours, binop, initial=0, combine=combine)\n",
    "top_commits = commits.topk(10, key=lambda time, count: count)\n",
    "%time top_commits.compute()"
   ]
  },
  {
   "cell_type": "code",
   "execution_count": null,
   "metadata": {},
   "outputs": [],
   "source": [
    "messages = pushes.pluck('payload').map(lambda x: ' '.join([c['message'].lower() for c in x['commits']]))\n",
    "top_10_words = messages.str.split().concat().frequencies().topk(10, lambda word, count: count)\n",
    "%time top_10_words.compute()"
   ]
  },
  {
   "cell_type": "markdown",
   "metadata": {},
   "source": [
    "If you haven't run `nltk` yet, you'll need to download your corpora. To do so, use this:\n",
    "\n",
    "`import nltk; nltk.download()`\n",
    "\n",
    "Follow the prompt and select (d) for Download and then type: `stopwords`\n",
    "\n",
    "Then you can use (q) to quit once the download is completed."
   ]
  },
  {
   "cell_type": "code",
   "execution_count": null,
   "metadata": {},
   "outputs": [],
   "source": [
    "from nltk.corpus import stopwords"
   ]
  },
  {
   "cell_type": "code",
   "execution_count": null,
   "metadata": {
    "collapsed": true
   },
   "outputs": [],
   "source": [
    "def get_combined_messages(x):\n",
    "    long_str = ' '.join([c['message'].lower() for c in x['commits']])\n",
    "    return ' '.join([w for w in long_str.split() if w not in stopwords.words('english')])"
   ]
  },
  {
   "cell_type": "code",
   "execution_count": null,
   "metadata": {},
   "outputs": [],
   "source": [
    "long_strs = pushes.pluck('payload').map(get_combined_messages)\n",
    "long_strs.take(5)"
   ]
  },
  {
   "cell_type": "code",
   "execution_count": null,
   "metadata": {},
   "outputs": [],
   "source": [
    "top_20_words = long_strs.str.split().concat().frequencies().topk(20, lambda word, count: count)"
   ]
  },
  {
   "cell_type": "code",
   "execution_count": null,
   "metadata": {},
   "outputs": [],
   "source": [
    "from dask.diagnostics import Profiler\n",
    "prof = Profiler()\n",
    "\n",
    "with prof:\n",
    "    res = top_20_words.compute()\n",
    "\n",
    "prof.visualize()"
   ]
  },
  {
   "cell_type": "code",
   "execution_count": null,
   "metadata": {},
   "outputs": [],
   "source": [
    "res"
   ]
  },
  {
   "cell_type": "code",
   "execution_count": null,
   "metadata": {
    "collapsed": true
   },
   "outputs": [],
   "source": []
  }
 ],
 "metadata": {
  "kernelspec": {
   "display_name": "Python 3",
   "language": "python",
   "name": "python3"
  },
  "language_info": {
   "codemirror_mode": {
    "name": "ipython",
    "version": 3
   },
   "file_extension": ".py",
   "mimetype": "text/x-python",
   "name": "python",
   "nbconvert_exporter": "python",
   "pygments_lexer": "ipython3",
   "version": "3.6.1"
  }
 },
 "nbformat": 4,
 "nbformat_minor": 1
}

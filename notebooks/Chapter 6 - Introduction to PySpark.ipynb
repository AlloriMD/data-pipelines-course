{
 "cells": [
  {
   "cell_type": "markdown",
   "metadata": {},
   "source": [
    "### Introduction to PySpark"
   ]
  },
  {
   "cell_type": "code",
   "execution_count": 1,
   "metadata": {
    "collapsed": false
   },
   "outputs": [
    {
     "data": {
      "text/plain": [
       "<pyspark.context.SparkContext at 0x7f35828c90b8>"
      ]
     },
     "execution_count": 1,
     "metadata": {},
     "output_type": "execute_result"
    }
   ],
   "source": [
    "sc"
   ]
  },
  {
   "cell_type": "code",
   "execution_count": 5,
   "metadata": {
    "collapsed": false
   },
   "outputs": [
    {
     "data": {
      "text/plain": [
       "<pyspark.sql.context.SQLContext at 0x7f35951dacf8>"
      ]
     },
     "execution_count": 5,
     "metadata": {},
     "output_type": "execute_result"
    }
   ],
   "source": [
    "sqlCtx"
   ]
  },
  {
   "cell_type": "code",
   "execution_count": 6,
   "metadata": {
    "collapsed": false
   },
   "outputs": [
    {
     "data": {
      "text/plain": [
       "20"
      ]
     },
     "execution_count": 6,
     "metadata": {},
     "output_type": "execute_result"
    }
   ],
   "source": [
    "rdd = sc.parallelize(range(1000), 20)  \n",
    "rdd.getNumPartitions()"
   ]
  },
  {
   "cell_type": "code",
   "execution_count": 7,
   "metadata": {
    "collapsed": false
   },
   "outputs": [
    {
     "data": {
      "text/plain": [
       "[0, 1, 2, 3, 4]"
      ]
     },
     "execution_count": 7,
     "metadata": {},
     "output_type": "execute_result"
    }
   ],
   "source": [
    "rdd.take(5)"
   ]
  },
  {
   "cell_type": "code",
   "execution_count": 8,
   "metadata": {
    "collapsed": false
   },
   "outputs": [],
   "source": [
    "text_rdd = sc.textFile('../data/clinton_emails/Emails.csv')"
   ]
  },
  {
   "cell_type": "code",
   "execution_count": 9,
   "metadata": {
    "collapsed": false
   },
   "outputs": [
    {
     "data": {
      "text/plain": [
       "PythonRDD[4] at RDD at PythonRDD.scala:48"
      ]
     },
     "execution_count": 9,
     "metadata": {},
     "output_type": "execute_result"
    }
   ],
   "source": [
    "text_rdd.filter(lambda x: 'Germany' in x)"
   ]
  },
  {
   "cell_type": "code",
   "execution_count": 10,
   "metadata": {
    "collapsed": false
   },
   "outputs": [
    {
     "data": {
      "text/plain": [
       "'had at least the tacit support of the governments of the United States, Germany, France, and Russia.'"
      ]
     },
     "execution_count": 10,
     "metadata": {},
     "output_type": "execute_result"
    }
   ],
   "source": [
    "text_rdd.filter(lambda x: 'Germany' in x).first()"
   ]
  },
  {
   "cell_type": "code",
   "execution_count": 11,
   "metadata": {
    "collapsed": true
   },
   "outputs": [],
   "source": [
    "germany = text_rdd.filter(lambda x: 'Germany' in x)"
   ]
  },
  {
   "cell_type": "code",
   "execution_count": 12,
   "metadata": {
    "collapsed": true
   },
   "outputs": [],
   "source": [
    "merkel = text_rdd.filter(lambda x: 'Merkel' in x)"
   ]
  },
  {
   "cell_type": "code",
   "execution_count": 13,
   "metadata": {
    "collapsed": true
   },
   "outputs": [],
   "source": [
    "germerkel = germany.union(merkel)"
   ]
  },
  {
   "cell_type": "code",
   "execution_count": 14,
   "metadata": {
    "collapsed": false
   },
   "outputs": [
    {
     "data": {
      "text/plain": [
       "UnionRDD[8] at union at NativeMethodAccessorImpl.java:-2"
      ]
     },
     "execution_count": 14,
     "metadata": {},
     "output_type": "execute_result"
    }
   ],
   "source": [
    "germerkel"
   ]
  },
  {
   "cell_type": "code",
   "execution_count": 15,
   "metadata": {
    "collapsed": false
   },
   "outputs": [
    {
     "data": {
      "text/plain": [
       "514"
      ]
     },
     "execution_count": 15,
     "metadata": {},
     "output_type": "execute_result"
    }
   ],
   "source": [
    "germerkel.count()"
   ]
  },
  {
   "cell_type": "code",
   "execution_count": 16,
   "metadata": {
    "collapsed": false
   },
   "outputs": [],
   "source": [
    "germerkel = germerkel.persist()"
   ]
  },
  {
   "cell_type": "code",
   "execution_count": 17,
   "metadata": {
    "collapsed": true
   },
   "outputs": [],
   "source": [
    "nums = sc.parallelize([1, 2, 3, 4])"
   ]
  },
  {
   "cell_type": "code",
   "execution_count": 18,
   "metadata": {
    "collapsed": true
   },
   "outputs": [],
   "source": [
    "sum = nums.reduce(lambda x, y: x + y)"
   ]
  },
  {
   "cell_type": "code",
   "execution_count": 19,
   "metadata": {
    "collapsed": false
   },
   "outputs": [
    {
     "data": {
      "text/plain": [
       "10"
      ]
     },
     "execution_count": 19,
     "metadata": {},
     "output_type": "execute_result"
    }
   ],
   "source": [
    "sum"
   ]
  },
  {
   "cell_type": "code",
   "execution_count": 20,
   "metadata": {
    "collapsed": false
   },
   "outputs": [],
   "source": [
    "sumCount = nums.aggregate((0, 0),  # zero value return\n",
    "                          (lambda x, y: (x[0] + y, x[1] + 1)), # first value - kind of like a map step - creates new type\n",
    "                          (lambda x, y: (x[0] + y[0], x[1] + y[1]))) \n",
    "                                    # combining vals from prev step - kinda like a reduce - combines new types"
   ]
  },
  {
   "cell_type": "code",
   "execution_count": 21,
   "metadata": {
    "collapsed": false
   },
   "outputs": [
    {
     "data": {
      "text/plain": [
       "(10, 4)"
      ]
     },
     "execution_count": 21,
     "metadata": {},
     "output_type": "execute_result"
    }
   ],
   "source": [
    "sumCount"
   ]
  },
  {
   "cell_type": "code",
   "execution_count": 22,
   "metadata": {
    "collapsed": false
   },
   "outputs": [
    {
     "data": {
      "text/plain": [
       "1"
      ]
     },
     "execution_count": 22,
     "metadata": {},
     "output_type": "execute_result"
    }
   ],
   "source": [
    "nums.first()"
   ]
  },
  {
   "cell_type": "code",
   "execution_count": 23,
   "metadata": {
    "collapsed": true
   },
   "outputs": [],
   "source": [
    "nums.aggregate?"
   ]
  },
  {
   "cell_type": "code",
   "execution_count": 24,
   "metadata": {
    "collapsed": true
   },
   "outputs": [],
   "source": [
    "pairs = germerkel.map(lambda s: (s, 1))\n",
    "counts = pairs.reduceByKey(lambda a, b: a + b)"
   ]
  },
  {
   "cell_type": "code",
   "execution_count": 35,
   "metadata": {
    "collapsed": false
   },
   "outputs": [
    {
     "data": {
      "text/plain": [
       "[('newspapers: the New York Times, Der Spiegel in Germany, Le Monde in France and El Pais in Spain. All five',\n",
       "  1),\n",
       " ('Germany responded by reviewing all their PD operations and developing an entirely new approach based on the PD',\n",
       "  2),\n",
       " ('when it once accused Germany of wanting Europe to become a large Switzerland.',\n",
       "  4),\n",
       " ('governments of the United States, Germany, France, and Russia.', 1),\n",
       " (\"is more about coordinating regulatory matters than trade, by the way. Raising Merkel's project\",\n",
       "  2),\n",
       " (\"right European People's Party, which groups Angela Merkel's ruling Christian Democratic Union Party in Germany,\",\n",
       "  4),\n",
       " ('even mention our own targets?\"\" demanded a furious Angela Merkel. Australia\\'s',\n",
       "  1),\n",
       " ('\"\"coalition contract\"\" — as happens in Germany — that would bind the Lib Dems and other smaller parties into a deal if the',\n",
       "  2),\n",
       " ('2006, he said, \"\"We are the only country, the only people, which remain still divided. Germany reunited its',\n",
       "  2),\n",
       " ('Pakistan, Britain and Germany are tracking the suspects and intercepting their phone calls, the official told The',\n",
       "  1)]"
      ]
     },
     "execution_count": 35,
     "metadata": {},
     "output_type": "execute_result"
    }
   ],
   "source": [
    "counts.take(10)"
   ]
  },
  {
   "cell_type": "code",
   "execution_count": 39,
   "metadata": {
    "collapsed": false
   },
   "outputs": [],
   "source": [
    "pairs = germerkel.flatMap(lambda s: s.split(' ')).map(lambda w: (w, 1)).reduceByKey(lambda a, b: a + b)"
   ]
  },
  {
   "cell_type": "code",
   "execution_count": 40,
   "metadata": {
    "collapsed": false
   },
   "outputs": [
    {
     "data": {
      "text/plain": [
       "[('remaining', 1), ('step', 5), ('was', 39), ('provide', 2)]"
      ]
     },
     "execution_count": 40,
     "metadata": {},
     "output_type": "execute_result"
    }
   ],
   "source": [
    "pairs.take(4)"
   ]
  },
  {
   "cell_type": "code",
   "execution_count": 41,
   "metadata": {
    "collapsed": false
   },
   "outputs": [
    {
     "data": {
      "text/plain": [
       "[('•Merkel', 2),\n",
       " ('•', 6),\n",
       " ('—A—Germany', 1),\n",
       " ('—', 14),\n",
       " ('–', 2),\n",
       " ('zu', 1),\n",
       " ('zone,', 5),\n",
       " ('youth:', 1),\n",
       " ('youth', 2),\n",
       " ('your', 4)]"
      ]
     },
     "execution_count": 41,
     "metadata": {},
     "output_type": "execute_result"
    }
   ],
   "source": [
    "pairs.sortBy(lambda k: k[1]).top(10)"
   ]
  },
  {
   "cell_type": "code",
   "execution_count": 29,
   "metadata": {
    "collapsed": true
   },
   "outputs": [],
   "source": [
    "import re"
   ]
  },
  {
   "cell_type": "code",
   "execution_count": 30,
   "metadata": {
    "collapsed": true
   },
   "outputs": [],
   "source": [
    "pairs = germerkel.flatMap(lambda s: re.findall('\\w+', s)).map(lambda w: (w, 1)).reduceByKey(lambda a, b: a + b)"
   ]
  },
  {
   "cell_type": "code",
   "execution_count": 31,
   "metadata": {
    "collapsed": false
   },
   "outputs": [],
   "source": [
    "my_df = pairs.sortBy(lambda p: p[1]).collect()"
   ]
  },
  {
   "cell_type": "code",
   "execution_count": 32,
   "metadata": {
    "collapsed": false
   },
   "outputs": [
    {
     "data": {
      "text/plain": [
       "[('remaining', 1),\n",
       " ('eastern', 1),\n",
       " ('levels', 1),\n",
       " ('Pakistan', 1),\n",
       " ('manager', 1),\n",
       " ('Rijdiger', 1),\n",
       " ('TO', 1),\n",
       " ('TBD', 1),\n",
       " ('Americans', 1),\n",
       " ('set', 1),\n",
       " ('50', 1),\n",
       " ('Walter', 1),\n",
       " ('guarantees', 1),\n",
       " ('organizational', 1),\n",
       " ('Question', 1),\n",
       " ('zu', 1),\n",
       " ('ROSCHMANN', 1),\n",
       " ('4', 1),\n",
       " ('both', 1),\n",
       " ('WE', 1),\n",
       " ('Norway', 1),\n",
       " ('Guttenberg', 1),\n",
       " ('192', 1),\n",
       " ('Hills', 1),\n",
       " ('C05764319', 1),\n",
       " ('Cheryl', 1),\n",
       " ('officer', 1),\n",
       " ('Below', 1),\n",
       " ('05T04', 1),\n",
       " ('26', 1),\n",
       " ('House', 1),\n",
       " ('128', 1),\n",
       " ('K', 1),\n",
       " ('Views', 1),\n",
       " ('beloved', 1),\n",
       " ('timetable', 1),\n",
       " ('Eikenberry', 1),\n",
       " ('Der', 1),\n",
       " ('McHaleJA', 1),\n",
       " ('Leaders', 1),\n",
       " ('Second', 1),\n",
       " ('reshaping', 1),\n",
       " ('Ukraine', 1),\n",
       " ('excerpts', 1),\n",
       " ('1950s', 1),\n",
       " ('until', 1),\n",
       " ('presidential', 1),\n",
       " ('interested', 1),\n",
       " ('engine', 1),\n",
       " ('0090', 1),\n",
       " ('RHJ', 1),\n",
       " ('couldn', 1),\n",
       " ('designated', 1),\n",
       " ('StateSeal', 1),\n",
       " ('balance', 1),\n",
       " ('formal', 1),\n",
       " ('WEOG', 1),\n",
       " ('goal', 1),\n",
       " ('Hans', 1),\n",
       " ('Patey', 1),\n",
       " ('authorities', 1),\n",
       " ('Philanthropy', 1),\n",
       " ('20', 1),\n",
       " ('Metadata', 1),\n",
       " ('fundamentally', 1),\n",
       " ('UNITED', 1),\n",
       " ('bid', 1),\n",
       " ('calls', 1),\n",
       " ('landscape', 1),\n",
       " ('ever', 1),\n",
       " ('far', 1),\n",
       " ('77', 1),\n",
       " ('newsstands', 1),\n",
       " ('SID', 1),\n",
       " ('considered', 1),\n",
       " ('team', 1),\n",
       " ('Magna', 1),\n",
       " ('declined', 1),\n",
       " ('Assembly', 1),\n",
       " ('Whose', 1),\n",
       " ('must', 1),\n",
       " ('page', 1),\n",
       " ('dismiss', 1),\n",
       " ('risk', 1),\n",
       " ('circulation', 1),\n",
       " ('Eleven', 1),\n",
       " ('improved', 1),\n",
       " ('serve', 1),\n",
       " ('matter', 1),\n",
       " ('concerns', 1),\n",
       " ('promised', 1),\n",
       " ('engage', 1),\n",
       " ('Korea', 1),\n",
       " ('recruit', 1),\n",
       " ('regional', 1),\n",
       " ('sanction', 1),\n",
       " ('offers', 1),\n",
       " ('applause', 1),\n",
       " ('agreement', 1),\n",
       " ('Timken', 1),\n",
       " ('DOC_0C05770206', 1),\n",
       " ('Monica', 1),\n",
       " ('Brodkorb', 1),\n",
       " ('SECURITY', 1),\n",
       " ('2012', 1),\n",
       " ('Schmidt', 1),\n",
       " ('prepared', 1),\n",
       " ('Hi', 1),\n",
       " ('circumstances', 1),\n",
       " ('60', 1),\n",
       " ('Russian', 1),\n",
       " ('DOC_0C05772733', 1),\n",
       " ('slices', 1),\n",
       " ('middle', 1),\n",
       " ('official', 1),\n",
       " ('belief', 1),\n",
       " ('thirds', 1),\n",
       " ('N', 1),\n",
       " ('Sunday', 1),\n",
       " ('Sarko', 1),\n",
       " ('70', 1),\n",
       " ('DOC_0C05769675', 1),\n",
       " ('poet', 1),\n",
       " ('General', 1),\n",
       " ('global', 1),\n",
       " ('12T04', 1),\n",
       " ('03T04', 1),\n",
       " ('security', 1),\n",
       " ('below', 1),\n",
       " ('realistic', 1),\n",
       " ('VERENA', 1),\n",
       " ('M', 1),\n",
       " ('Cold', 1),\n",
       " ('Dietrich', 1),\n",
       " ('C05768658', 1),\n",
       " ('Singapore', 1),\n",
       " ('Press', 1),\n",
       " ('withdrew', 1),\n",
       " ('diagram', 1),\n",
       " ('senators', 1),\n",
       " ('wanted', 1),\n",
       " ('article', 1),\n",
       " ('chaired', 1),\n",
       " ('steadfast', 1),\n",
       " ('Turkey', 1),\n",
       " ('address', 1),\n",
       " ('Spiegel', 1),\n",
       " ('Joe', 1),\n",
       " ('6', 1),\n",
       " ('On', 1),\n",
       " ('47', 1),\n",
       " ('Frank', 1),\n",
       " ('DOC_0C05778448', 1),\n",
       " ('Israel', 1),\n",
       " ('comparison', 1),\n",
       " ('highest', 1),\n",
       " ('Pais', 1),\n",
       " ('El', 1),\n",
       " ('stance', 1),\n",
       " ('reliable', 1),\n",
       " ('Associated', 1),\n",
       " ('nearly', 1),\n",
       " ('IRAN', 1),\n",
       " ('David', 1),\n",
       " ('crowd', 1),\n",
       " ('WINS', 1),\n",
       " ('greatly', 1),\n",
       " ('B', 1),\n",
       " ('SPIEGEL', 1),\n",
       " ('wouldn', 1),\n",
       " ('WWII', 1),\n",
       " ('DOC_0C05760152', 1),\n",
       " ('7935', 1),\n",
       " ('bids', 1),\n",
       " ('NATIONS', 1),\n",
       " ('AFGHANISTAN', 1),\n",
       " ('O_CMS', 1),\n",
       " ('Maya', 1),\n",
       " ('launched', 1),\n",
       " ('required', 1),\n",
       " ('taken', 1),\n",
       " ('negotiating', 1),\n",
       " ('reportedly', 1),\n",
       " ('campaign', 1),\n",
       " ('SEAT', 1),\n",
       " ('learn', 1),\n",
       " ('School', 1),\n",
       " ('START', 1),\n",
       " ('interviewed', 1),\n",
       " ('High', 1),\n",
       " ('confidence', 1),\n",
       " ('Qaida', 1),\n",
       " ('strengthening', 1),\n",
       " ('Our', 1),\n",
       " ('Times', 1),\n",
       " ('administration', 1),\n",
       " ('reassurances', 1),\n",
       " ('Timing', 1),\n",
       " ('Bulgaria', 1),\n",
       " ('handling', 1),\n",
       " ('Shortly', 1),\n",
       " ('trademark', 1),\n",
       " ('targeted', 1),\n",
       " ('McDonald', 1),\n",
       " ('3216', 1),\n",
       " ('worldwide', 1),\n",
       " ('request', 1),\n",
       " ('behest', 1),\n",
       " ('194', 1),\n",
       " ('restructuring', 1),\n",
       " ('Karzai', 1),\n",
       " ('Zuricher', 1),\n",
       " ('funding', 1),\n",
       " ('Lew', 1),\n",
       " ('Shadow', 1),\n",
       " ('Consulates', 1),\n",
       " ('non', 1),\n",
       " ('off', 1),\n",
       " ('ONLINE', 1),\n",
       " ('tacit', 1),\n",
       " ('largely', 1),\n",
       " ('almost', 1),\n",
       " ('2008', 1),\n",
       " ('conference', 1),\n",
       " ('booed', 1),\n",
       " ('Margaret', 1),\n",
       " ('Europolitics', 1),\n",
       " ('963', 1),\n",
       " ('votes', 1),\n",
       " ('subgroups', 1),\n",
       " ('trans', 1),\n",
       " ('Commander', 1),\n",
       " ('Rico', 1),\n",
       " ('Allgemeine', 1),\n",
       " ('Mills', 1),\n",
       " ('rarely', 1),\n",
       " ('editorial', 1),\n",
       " ('Sueddeutsche', 1),\n",
       " ('province', 1),\n",
       " ('Madrid', 1),\n",
       " ('WILSON', 1),\n",
       " ('thinking', 1),\n",
       " ('MSRP', 1),\n",
       " ('MEMO', 1),\n",
       " ('few', 1),\n",
       " ('Hamburg', 1),\n",
       " ('declared', 1),\n",
       " ('Senior', 1),\n",
       " ('weekend', 1),\n",
       " ('War', 1),\n",
       " ('fresh', 1),\n",
       " ('time', 1),\n",
       " ('Luxembourg', 1),\n",
       " ('Monde', 1),\n",
       " ('MESEBERG', 1),\n",
       " ('105', 1),\n",
       " ('dissertation', 1),\n",
       " ('Elin', 1),\n",
       " ('intercepting', 1),\n",
       " ('primarily', 1),\n",
       " ('Public', 1),\n",
       " ('Ireland', 1),\n",
       " ('shoulder', 1),\n",
       " ('19', 1),\n",
       " ('84', 1),\n",
       " ('TRANSATLANTIC', 1),\n",
       " ('permanent', 1),\n",
       " ('600', 1),\n",
       " ('prosecutors', 1),\n",
       " ('begins', 1),\n",
       " ('majorities', 1),\n",
       " ('Euro', 1),\n",
       " ('69', 1),\n",
       " ('mixed', 1),\n",
       " ('Treaty', 1),\n",
       " ('0102', 1),\n",
       " ('exists', 1),\n",
       " ('PULLOUT', 1),\n",
       " ('seaside', 1),\n",
       " ('responsibility', 1),\n",
       " ('Kitty', 1),\n",
       " ('Diagram', 1),\n",
       " ('survivors', 1),\n",
       " ('phone', 1),\n",
       " ('parliament', 1),\n",
       " ('holdovers', 1),\n",
       " ('favorably', 1),\n",
       " ('ain', 1),\n",
       " ('FW', 1),\n",
       " ('predicted', 1),\n",
       " ('drives', 1),\n",
       " ('33', 1),\n",
       " ('hallmark', 1),\n",
       " ('story', 1),\n",
       " ('line', 1),\n",
       " ('slots', 1),\n",
       " ('Brazil', 1),\n",
       " ('news', 1),\n",
       " ('C05771122', 1),\n",
       " ('sustained', 1),\n",
       " ('assistant', 1),\n",
       " ('Now', 1),\n",
       " ('oust', 1),\n",
       " ('allegedly', 1),\n",
       " ('passed', 1),\n",
       " ('45', 1),\n",
       " ('Konig', 1),\n",
       " ('specific', 1),\n",
       " ('evil', 1),\n",
       " ('29', 1),\n",
       " ('near', 1),\n",
       " ('Great', 1),\n",
       " ('suspects', 1),\n",
       " ('further', 1),\n",
       " ('japan', 1),\n",
       " ('irritated', 1),\n",
       " ('weapons', 1),\n",
       " ('OPEL', 1),\n",
       " ('22', 1),\n",
       " ('stressed', 1),\n",
       " ('tone', 1),\n",
       " ('synonymous', 1),\n",
       " ('class', 1),\n",
       " ('0113', 1),\n",
       " ('though', 1),\n",
       " ('legal', 1),\n",
       " ('contacted', 1),\n",
       " ('Le', 1),\n",
       " ('graduated', 1),\n",
       " ('creating', 1),\n",
       " ('differences', 1),\n",
       " ('CA', 1),\n",
       " ('huge', 1),\n",
       " ('form', 1),\n",
       " ('FOR', 1),\n",
       " ('publish', 1),\n",
       " ('SCHMITT', 1),\n",
       " ('002', 1),\n",
       " ('Ambassadors', 1),\n",
       " ('Consuls', 1),\n",
       " ('Puerto', 1),\n",
       " ('noticing', 1),\n",
       " ('incensed', 1),\n",
       " ('Services', 1),\n",
       " ('race', 1),\n",
       " ('says', 1),\n",
       " ('print', 1),\n",
       " ('just', 1),\n",
       " ('legacy', 1),\n",
       " ('reform', 1),\n",
       " ('Slovakia', 1),\n",
       " ('ECONOMIC', 1),\n",
       " ('UNSC', 1),\n",
       " ('entitled', 1),\n",
       " ('Once', 1),\n",
       " ('Theodor', 1),\n",
       " ('close', 1),\n",
       " ('pass', 1),\n",
       " ('21', 1),\n",
       " ('Forest', 1),\n",
       " ('Abed', 1),\n",
       " ('summit', 1),\n",
       " ('artillery', 1),\n",
       " ('defined', 1),\n",
       " ('Gen', 1),\n",
       " ('geographically', 1),\n",
       " ('0082', 1),\n",
       " ('try', 1),\n",
       " ('power', 1),\n",
       " ('heated', 1),\n",
       " ('Deauville', 1),\n",
       " ('similarly', 1),\n",
       " ('Attachments', 1),\n",
       " ('DiMartino', 1),\n",
       " ('AGENDA', 1),\n",
       " ('high', 1),\n",
       " ('paranoia', 1),\n",
       " ('northern', 1),\n",
       " ('Malaysia', 1),\n",
       " ('participants', 1),\n",
       " ('City', 1),\n",
       " ('esp', 1),\n",
       " ('core', 1),\n",
       " ('Alfa', 1),\n",
       " ('41', 1),\n",
       " ('offsite', 1),\n",
       " ('mad', 1),\n",
       " ('soon', 1),\n",
       " ('resume', 1),\n",
       " ('There', 1),\n",
       " ('strike', 1),\n",
       " ('Did', 1),\n",
       " ('ally', 1),\n",
       " ('included', 1),\n",
       " ('prices', 1),\n",
       " ('reinventing', 1),\n",
       " ('British', 1),\n",
       " ('Pis', 1),\n",
       " ('JOE', 1),\n",
       " ('10T05', 1),\n",
       " ('September', 1),\n",
       " ('52', 1),\n",
       " ('asked', 1),\n",
       " ('Diplomacy', 1),\n",
       " ('involve', 1),\n",
       " ('MGCIO1', 1),\n",
       " ('relevance', 1),\n",
       " ('given', 1),\n",
       " ('DOC_0C05765644', 1),\n",
       " ('playing', 1),\n",
       " ('6668', 1),\n",
       " ('bidding', 1),\n",
       " ('come', 1),\n",
       " ('softening', 1),\n",
       " ('prioritization', 1),\n",
       " ('See', 1),\n",
       " ('less', 1),\n",
       " ('Thatcher', 1),\n",
       " ('Problem', 1),\n",
       " ('Kohl', 1),\n",
       " ('attacks', 1),\n",
       " ('accelerated', 1),\n",
       " ('itself', 1),\n",
       " ('965', 1),\n",
       " ('throughout', 1),\n",
       " ('By', 1),\n",
       " ('course', 1),\n",
       " ('Wilson', 1),\n",
       " ('August', 1),\n",
       " ('SullivanJJ', 1),\n",
       " ('sweeps', 1),\n",
       " ('officially', 1),\n",
       " ('Writer', 1),\n",
       " ('C05766883', 1),\n",
       " ('mentor', 1),\n",
       " ('DISCUSSED', 1),\n",
       " ('Defense', 1),\n",
       " ('advanced', 1),\n",
       " ('structure', 1),\n",
       " ('troops', 1),\n",
       " ('mostly', 1),\n",
       " ('stabilize', 1),\n",
       " ('joint', 1),\n",
       " ('clips', 1),\n",
       " ('etc', 1),\n",
       " ('Dmitry', 1),\n",
       " ('16T05', 1),\n",
       " ('dat', 1),\n",
       " ('strong', 1),\n",
       " ('successful', 1),\n",
       " ('since', 1),\n",
       " ('extended', 1),\n",
       " ('appreciate', 1),\n",
       " ('ON', 1),\n",
       " ('town', 1),\n",
       " ('powers', 1),\n",
       " ('announced', 1),\n",
       " ('according', 1),\n",
       " ('MEDVEDEV', 1),\n",
       " ('nuke', 1),\n",
       " ('90', 1),\n",
       " ('ISAF', 1),\n",
       " ('stuff', 1),\n",
       " ('DCM', 1),\n",
       " ('elected', 1),\n",
       " ('south', 1),\n",
       " ('choices', 1),\n",
       " ('list', 1),\n",
       " ('goals', 1),\n",
       " ('press', 1),\n",
       " ('Nations', 1),\n",
       " ('All', 1),\n",
       " ('dog', 1),\n",
       " ('revelations', 1),\n",
       " ('newspapers', 1),\n",
       " ('G8', 1),\n",
       " ('half', 1),\n",
       " ('gif', 1),\n",
       " ('Atlantic', 1),\n",
       " ('familiar', 1),\n",
       " ('attack', 1),\n",
       " ('Angelou', 1),\n",
       " ('bet', 1),\n",
       " ('79', 1),\n",
       " ('adopted', 1),\n",
       " ('expected', 1),\n",
       " ('reassuring', 1),\n",
       " ('hit', 1),\n",
       " ('He', 1),\n",
       " ('DOC_0C05760155', 1),\n",
       " ('HRC', 1),\n",
       " ('Ziiricher', 1),\n",
       " ('D', 1),\n",
       " ('5442', 1),\n",
       " ('what', 1),\n",
       " ('5138', 1),\n",
       " ('Web_047', 1),\n",
       " ('May3', 1),\n",
       " ('avoids', 1),\n",
       " ('Fwd', 1),\n",
       " ('Embassy', 1),\n",
       " ('RESTRUCTURING', 1),\n",
       " ('vertigo', 2),\n",
       " ('BONN', 2),\n",
       " ('getting', 2),\n",
       " ('unacceptable', 2),\n",
       " ('illegal', 2),\n",
       " ('certainly', 2),\n",
       " ('water', 2),\n",
       " ('showed', 2),\n",
       " ('work', 2),\n",
       " ('job', 2),\n",
       " ('keen', 2),\n",
       " ('conceded', 2),\n",
       " ('technology', 2),\n",
       " ('Karl', 2),\n",
       " ('16', 2),\n",
       " ('sworn', 2),\n",
       " ('led', 2),\n",
       " ('nonentities', 2),\n",
       " ('chair', 2),\n",
       " ('sharing', 2),\n",
       " ('Any', 2),\n",
       " ('issues', 2),\n",
       " ('40', 2),\n",
       " ('Genscher', 2),\n",
       " ('something', 2),\n",
       " ('reinvigorating', 2),\n",
       " ('hours', 2),\n",
       " ('players', 2),\n",
       " ('exposure', 2),\n",
       " ('say', 2),\n",
       " ('misinformed', 2),\n",
       " ('PART', 2),\n",
       " ('pressure', 2),\n",
       " ('HRCEmail_JuneWeb', 2),\n",
       " ('During', 2),\n",
       " ('JilotyLC', 2),\n",
       " ('stronger', 2),\n",
       " ('challenge', 2),\n",
       " ('Sept', 2),\n",
       " ('size', 2),\n",
       " ('staff', 2),\n",
       " ('1939', 2),\n",
       " ('glorification', 2),\n",
       " ('put', 2),\n",
       " ('supports', 2),\n",
       " ('particular', 2),\n",
       " ('Saturday', 2),\n",
       " ('got', 2),\n",
       " ('provide', 2),\n",
       " ('Dulles', 2),\n",
       " ('rumor', 2),\n",
       " ('process', 2),\n",
       " ('29_JuneWEB', 2),\n",
       " ('making', 2),\n",
       " ('enactments', 2),\n",
       " ('last', 2),\n",
       " ('developing', 2),\n",
       " ('why', 2),\n",
       " ('placed', 2),\n",
       " ('approach', 2),\n",
       " ('Will', 2),\n",
       " ('really', 2),\n",
       " ('position', 2),\n",
       " ('cooperation', 2),\n",
       " ('willing', 2),\n",
       " ('b', 2),\n",
       " ('Anton', 2),\n",
       " ('thought', 2),\n",
       " ('bowed', 2),\n",
       " ('coordinating', 2),\n",
       " ('operations', 2),\n",
       " ('Tony', 2),\n",
       " ('disagreed', 2),\n",
       " ('Within', 2),\n",
       " ('economy', 2),\n",
       " ('published', 2),\n",
       " ('invention', 2),\n",
       " ('regarded', 2),\n",
       " ('goods', 2),\n",
       " ('chances', 2),\n",
       " ('HRCEmail_JulyWeb', 2),\n",
       " ('Opposition', 2),\n",
       " ('essential', 2),\n",
       " ('messages', 2),\n",
       " ('creative', 2),\n",
       " ('came', 2),\n",
       " ('value', 2),\n",
       " ('head', 2),\n",
       " ('retreat', 2),\n",
       " ('discussing', 2),\n",
       " ('FROM', 2),\n",
       " ('winning', 2),\n",
       " ('Brazilian', 2),\n",
       " ('resignation', 2),\n",
       " ('ln', 2),\n",
       " ('involvement', 2),\n",
       " ('number', 2),\n",
       " ('reviewing', 2),\n",
       " ('chickens', 2),\n",
       " ('highly', 2),\n",
       " ('reaction', 2),\n",
       " ('vehemently', 2),\n",
       " ('range', 2),\n",
       " ('gets', 2),\n",
       " ('strategies', 2),\n",
       " ('benefited', 2),\n",
       " ('wrong', 2),\n",
       " ('longstanding', 2),\n",
       " ('Senate', 2),\n",
       " ('23', 2),\n",
       " ('people', 2),\n",
       " ('urge', 2),\n",
       " ('keep', 2),\n",
       " ('seeking', 2),\n",
       " ('desire', 2),\n",
       " ('constructive', 2),\n",
       " ('Chinese', 2),\n",
       " ('80', 2),\n",
       " ('thing', 2),\n",
       " ('despair', 2),\n",
       " ('ayeravd', 2),\n",
       " ('SS', 2),\n",
       " ('81', 2),\n",
       " ('privately', 2),\n",
       " ('illustrate', 2),\n",
       " ('unemployment', 2),\n",
       " ('places', 2),\n",
       " ('undoubtedly', 2),\n",
       " ('lead', 2),\n",
       " ('believes', 2),\n",
       " ('scenes', 2),\n",
       " ('pivotal', 2),\n",
       " ('expect', 2),\n",
       " ('William', 2),\n",
       " ('generations', 2),\n",
       " ('0_0S', 2),\n",
       " ('Partial', 2),\n",
       " ('harsh', 2),\n",
       " ('MERKEL', 2),\n",
       " ('unilateral', 2),\n",
       " ('relationship', 2),\n",
       " ('December', 2),\n",
       " ('warns', 2),\n",
       " ('yesterday', 2),\n",
       " ('18', 2),\n",
       " ('dated', 2),\n",
       " ('Stalin', 2),\n",
       " ('changes', 2),\n",
       " ('Foreign', 2),\n",
       " ('heighten', 2),\n",
       " ('hands', 2),\n",
       " ('partners', 2),\n",
       " ('divided', 2),\n",
       " ('neutral', 2),\n",
       " ('HRCAll_1_1', 2),\n",
       " ('Having', 2),\n",
       " ('divergences', 2),\n",
       " ('fully', 2),\n",
       " ('Ex', 2),\n",
       " ('uniform', 2),\n",
       " ('Also', 2),\n",
       " ('reach', 2),\n",
       " ('arid', 2),\n",
       " ('Rousseff', 2),\n",
       " ('Keeping', 2),\n",
       " ('lay', 2),\n",
       " ('Property', 2),\n",
       " ('responded', 2),\n",
       " ('Prime', 2),\n",
       " ('readers', 2),\n",
       " ('fugue', 2),\n",
       " ('negotiations', 2),\n",
       " ('term', 2),\n",
       " ('late', 2),\n",
       " ('doc', 2),\n",
       " ('Phil', 2),\n",
       " ('Stalinist', 2),\n",
       " ('EUR4', 2),\n",
       " ('commit', 2),\n",
       " ('volunteers', 2),\n",
       " ('Vice', 2),\n",
       " ('Historians', 2),\n",
       " ('heard', 2),\n",
       " ('pact', 2),\n",
       " ('Good', 2),\n",
       " ('delegate', 2),\n",
       " ('senior', 2),\n",
       " ('Estonia', 2),\n",
       " ('via', 2),\n",
       " ('chlorine', 2),\n",
       " ('named', 2),\n",
       " ('International', 2),\n",
       " ('coup', 2),\n",
       " ('working', 2),\n",
       " ('confirmed', 2),\n",
       " ('change', 2),\n",
       " ('employ', 2),\n",
       " ('efforts', 2),\n",
       " ('Chair', 2),\n",
       " ('sbwhoeop', 2),\n",
       " ('sure', 2),\n",
       " ('05T05', 2),\n",
       " ('Wiking', 2),\n",
       " ('That', 2),\n",
       " ('regulatory', 2),\n",
       " ('Ambassador', 2),\n",
       " ('mission', 2),\n",
       " ('limited', 2),\n",
       " ('COUNCIL', 2),\n",
       " ('co', 2),\n",
       " ('Austria', 2),\n",
       " ('badly', 2),\n",
       " ('higher', 2),\n",
       " ('recruiting', 2),\n",
       " ('W', 2),\n",
       " ('BP', 2),\n",
       " ('cut', 2),\n",
       " ('echoed', 2),\n",
       " ('slide', 2),\n",
       " ('figure', 2),\n",
       " ('eastward', 2),\n",
       " ('meet', 2),\n",
       " ('reenactment', 2),\n",
       " ('damage', 2),\n",
       " ('diplomacy', 2),\n",
       " ('losing', 2),\n",
       " ('defeat', 2),\n",
       " ('AbedinH', 2),\n",
       " ('end', 2),\n",
       " ('departs', 2),\n",
       " ('reluctant', 2),\n",
       " ('reflect', 2),\n",
       " ('speak', 2),\n",
       " ('restart', 2),\n",
       " ('believed', 2),\n",
       " ('kind', 2),\n",
       " ('McHale', 2),\n",
       " ('music', 2),\n",
       " ('attitude', 2),\n",
       " ('cross', 2),\n",
       " ('_', 2),\n",
       " ('round', 2),\n",
       " ('voters', 2),\n",
       " ('characterization', 2),\n",
       " ('coveted', 2),\n",
       " ('reunited', 2),\n",
       " ('television', 2),\n",
       " ('forced', 2),\n",
       " ('12_13_14', 2),\n",
       " ('questions', 2),\n",
       " ('expectations', 2),\n",
       " ('rate', 2),\n",
       " ('LaRouche', 2),\n",
       " ('announce', 2),\n",
       " ('O_Shift', 2),\n",
       " ('Murphy', 2),\n",
       " ('critical', 2),\n",
       " ('advantage', 2),\n",
       " ('wash', 2),\n",
       " ('analysis', 2),\n",
       " ('Delhi', 2),\n",
       " ('staffing', 2),\n",
       " ('survived', 2),\n",
       " ('multitudes', 2),\n",
       " ('York', 2),\n",
       " ('six', 2),\n",
       " ('deliver', 2),\n",
       " ('negatively', 2),\n",
       " ('jobs', 2),\n",
       " ('includes', 2),\n",
       " ('87', 2),\n",
       " ('foresee', 2),\n",
       " ('decide', 2),\n",
       " ('dinner', 2),\n",
       " ('aricher', 2),\n",
       " ('Conservative', 2),\n",
       " ('30T04', 2),\n",
       " ('problem', 2),\n",
       " ('began', 2),\n",
       " ('toppled', 2),\n",
       " ('any', 2),\n",
       " ('genocide', 2),\n",
       " ('Judith', 2),\n",
       " ('easy', 2),\n",
       " ('see', 2),\n",
       " ('they', 2),\n",
       " ('called', 2),\n",
       " ('reviving', 2),\n",
       " ('platforms', 2),\n",
       " ('annoyed', 2),\n",
       " ('wrote', 2),\n",
       " ('remain', 2),\n",
       " ('criticised', 2),\n",
       " ('ratings', 2),\n",
       " ('implies', 2),\n",
       " ('present', 2),\n",
       " ('tonight', 2),\n",
       " ('USSR', 2),\n",
       " ('sorne', 2),\n",
       " ('This', 2),\n",
       " ('dispute', 2),\n",
       " ('flexible', 2),\n",
       " ('Chaitkin', 2),\n",
       " ('rescue', 2),\n",
       " ('drum', 2),\n",
       " ('Operations', 2),\n",
       " ('billion', 2),\n",
       " ('express', 2),\n",
       " ('agree', 2),\n",
       " ('allies', 2),\n",
       " ('airports', 2),\n",
       " ('Charles', 2),\n",
       " ('Muslim', 2),\n",
       " ('makers', 2),\n",
       " ('gordonph', 2),\n",
       " ('everyone', 2),\n",
       " ('currencies', 2),\n",
       " ('dollar', 2),\n",
       " ('DOWN', 2),\n",
       " ('split', 2),\n",
       " ('voting', 2),\n",
       " ('shaken', 2),\n",
       " ('behind', 2),\n",
       " ('arrived', 2),\n",
       " ('operational', 2),\n",
       " ('times', 2),\n",
       " ('report', 2),\n",
       " ('o', 2),\n",
       " ('Dutch', 2),\n",
       " ('2006', 2),\n",
       " ('staffer', 2),\n",
       " ('So', 2),\n",
       " ('offer', 2),\n",
       " ('unless', 2),\n",
       " ('emerged', 2),\n",
       " ('historical', 2),\n",
       " ('Argentina', 3),\n",
       " ('Looked', 3),\n",
       " ('decision', 3),\n",
       " ('Rudd', 3),\n",
       " ('bridge', 3),\n",
       " ('56', 3),\n",
       " ('start', 3),\n",
       " ('Abedin', 3),\n",
       " ('Asia', 3),\n",
       " ('east', 3),\n",
       " ('Burkina', 3),\n",
       " ('E3', 3),\n",
       " ('conversation', 3),\n",
       " ('Congress', 3),\n",
       " ('Barack', 3),\n",
       " ('Gate', 3),\n",
       " ('lost', 3),\n",
       " ('trade', 3),\n",
       " ('terrific', 3),\n",
       " ('during', 3),\n",
       " ('Strategy', 3),\n",
       " ('Kenya', 3),\n",
       " ('current', 3),\n",
       " ('J', 3),\n",
       " ('cuts', 3),\n",
       " ('cannot', 3),\n",
       " ('Thursday', 3),\n",
       " ('attempt', 3),\n",
       " ('feed', 3),\n",
       " ('Dobbins', 3),\n",
       " ('institutions', 3),\n",
       " ('country', 3),\n",
       " ('Sullivan', 3),\n",
       " ('details', 3),\n",
       " ('matters', 3),\n",
       " ('March', 3),\n",
       " ('demonstrated', 3),\n",
       " ('include', 3),\n",
       " ('Denmark', 3),\n",
       " ('months', 3),\n",
       " ('sources', 3),\n",
       " ('smaller', 3),\n",
       " ('James', 3),\n",
       " ('Tuesday', 3),\n",
       " ('7', 3),\n",
       " ('Rodriguez', 3),\n",
       " ('such', 3),\n",
       " ('GERMANY', 3),\n",
       " ('clearly', 3),\n",
       " ('Role', 3),\n",
       " ('pullout', 3),\n",
       " ('wins', 3),\n",
       " ('fail', 3),\n",
       " ('How', 3),\n",
       " ('criticise', 3),\n",
       " ('June', 3),\n",
       " ('affairs', 3),\n",
       " ('wall', 3),\n",
       " ('timing', 3),\n",
       " ('parties', 3),\n",
       " ('Whether', 3),\n",
       " ('Sweden', 3),\n",
       " ('Kevin', 3),\n",
       " ('happens', 3),\n",
       " ('prime', 3),\n",
       " ('Cameroon', 3),\n",
       " ('Tories', 3),\n",
       " ('treaty', 3),\n",
       " ('relations', 3),\n",
       " ('et', 3),\n",
       " ('Jose', 3),\n",
       " ('correctly', 3),\n",
       " ('contract', 3),\n",
       " ('run', 3),\n",
       " ('Building', 3),\n",
       " ('FYI', 3),\n",
       " ('8', 3),\n",
       " ('told', 3),\n",
       " ('her', 3),\n",
       " ('accelerating', 3),\n",
       " ('suffer', 3),\n",
       " ('upset', 3),\n",
       " ('C05760152', 3),\n",
       " ('push', 3),\n",
       " ('true', 3),\n",
       " ('down', 3),\n",
       " ('delay', 3),\n",
       " ('Republican', 3),\n",
       " ('public', 3),\n",
       " ('entered', 3),\n",
       " ('pre', 3),\n",
       " ('Portugal', 3),\n",
       " ('coalition', 3),\n",
       " ('before', 3),\n",
       " ('publicly', 3),\n",
       " ('pressurein', 3),\n",
       " ('Faso', 3),\n",
       " ('year', 3),\n",
       " ('into', 3),\n",
       " ('Santa', 3),\n",
       " ('C05770206', 3),\n",
       " ('get', 3),\n",
       " ('taking', 3),\n",
       " ('Tilt', 3),\n",
       " ('GM', 3),\n",
       " ('post', 3),\n",
       " ('April', 3),\n",
       " ('n', 3),\n",
       " ('example', 3),\n",
       " ('can', 3),\n",
       " ('Is', 3),\n",
       " ('guys', 3),\n",
       " ('October', 3),\n",
       " ('offended', 3),\n",
       " ('Nation', 3),\n",
       " ('aghast', 3),\n",
       " ('affects', 3),\n",
       " ('received', 3),\n",
       " ('discuss', 3),\n",
       " ('partner', 3),\n",
       " ('Luiz', 3),\n",
       " ('option', 3),\n",
       " ('27', 3),\n",
       " ('lives', 3),\n",
       " ('youth', 3),\n",
       " ('entirely', 3),\n",
       " ('lessons', 3),\n",
       " ('watched', 3),\n",
       " ('Dream', 4),\n",
       " ('bind', 4),\n",
       " ('sometimes', 4),\n",
       " ('proposes', 4),\n",
       " ('Joschka', 4),\n",
       " ('route', 4),\n",
       " ('12', 4),\n",
       " ('interest', 4),\n",
       " ('misunderstanding', 4),\n",
       " ('wanting', 4),\n",
       " ('think', 4),\n",
       " ('political', 4),\n",
       " ('dogs', 4),\n",
       " ('C05769675', 4),\n",
       " ('Christian', 4),\n",
       " ('statement', 4),\n",
       " ('Miss', 4),\n",
       " ('Netherlands', 4),\n",
       " ('raised', 4),\n",
       " ('using', 4),\n",
       " ('rather', 4),\n",
       " ('Huma', 4),\n",
       " ('groups', 4),\n",
       " ('anti', 4),\n",
       " ('Sixty', 4),\n",
       " ('decades', 4),\n",
       " ('cup', 4),\n",
       " ('rising', 4),\n",
       " ('Need', 4),\n",
       " ('worry', 4),\n",
       " ('dilemma', 4),\n",
       " ('LES', 4),\n",
       " ('Cheers', 4),\n",
       " ('10', 4),\n",
       " ...]"
      ]
     },
     "execution_count": 32,
     "metadata": {},
     "output_type": "execute_result"
    }
   ],
   "source": [
    "my_df"
   ]
  },
  {
   "cell_type": "code",
   "execution_count": 33,
   "metadata": {
    "collapsed": false
   },
   "outputs": [
    {
     "data": {
      "text/plain": [
       "list"
      ]
     },
     "execution_count": 33,
     "metadata": {},
     "output_type": "execute_result"
    }
   ],
   "source": [
    "type(my_df)"
   ]
  },
  {
   "cell_type": "code",
   "execution_count": 34,
   "metadata": {
    "collapsed": false
   },
   "outputs": [
    {
     "data": {
      "text/plain": [
       "[('States', 24),\n",
       " ('Chancellor', 25),\n",
       " ('United', 26),\n",
       " ('have', 27),\n",
       " ('F', 27),\n",
       " ('German', 27),\n",
       " ('will', 28),\n",
       " ('U', 29),\n",
       " ('about', 31),\n",
       " ('not', 35),\n",
       " ('we', 36),\n",
       " ('by', 37),\n",
       " ('was', 39),\n",
       " ('from', 40),\n",
       " ('it', 40),\n",
       " ('be', 41),\n",
       " ('with', 41),\n",
       " ('on', 43),\n",
       " ('France', 45),\n",
       " ('are', 47),\n",
       " ('but', 49),\n",
       " ('its', 51),\n",
       " ('Angela', 53),\n",
       " ('has', 54),\n",
       " ('as', 55),\n",
       " ('The', 55),\n",
       " ('00', 56),\n",
       " ('Europe', 65),\n",
       " ('that', 80),\n",
       " ('for', 81),\n",
       " ('is', 114),\n",
       " ('a', 125),\n",
       " ('s', 158),\n",
       " ('Merkel', 162),\n",
       " ('in', 172),\n",
       " ('and', 197),\n",
       " ('to', 208),\n",
       " ('of', 250),\n",
       " ('the', 399),\n",
       " ('Germany', 406)]"
      ]
     },
     "execution_count": 34,
     "metadata": {},
     "output_type": "execute_result"
    }
   ],
   "source": [
    "my_df[-40:]"
   ]
  },
  {
   "cell_type": "code",
   "execution_count": null,
   "metadata": {
    "collapsed": true
   },
   "outputs": [],
   "source": []
  }
 ],
 "metadata": {
  "kernelspec": {
   "display_name": "Python 3",
   "language": "python",
   "name": "python3"
  },
  "language_info": {
   "codemirror_mode": {
    "name": "ipython",
    "version": 3
   },
   "file_extension": ".py",
   "mimetype": "text/x-python",
   "name": "python",
   "nbconvert_exporter": "python",
   "pygments_lexer": "ipython3",
   "version": "3.4.3"
  }
 },
 "nbformat": 4,
 "nbformat_minor": 0
}
